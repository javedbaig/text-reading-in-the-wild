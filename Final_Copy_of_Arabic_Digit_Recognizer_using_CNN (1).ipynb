{
  "nbformat": 4,
  "nbformat_minor": 0,
  "metadata": {
    "colab": {
      "provenance": [],
      "gpuType": "T4"
    },
    "language_info": {
      "codemirror_mode": {
        "name": "ipython",
        "version": 3
      },
      "file_extension": ".py",
      "mimetype": "text/x-python",
      "name": "python",
      "nbconvert_exporter": "python",
      "pygments_lexer": "ipython3",
      "version": "3.6.5"
    },
    "kernelspec": {
      "display_name": "Python 3",
      "name": "python3"
    },
    "accelerator": "GPU"
  },
  "cells": [
    {
      "cell_type": "markdown",
      "metadata": {
        "_cell_guid": "d93e43c9-8a48-41c7-93f2-1dbeec38f80e",
        "_uuid": "b2538ad6607dc541ad42195df42b3c70ecdd59a3",
        "id": "asmJRuOT5vvY"
      },
      "source": [
        "# Arabic Digit Recognizer"
      ]
    },
    {
      "cell_type": "code",
      "metadata": {
        "_cell_guid": "c386cfd1-3d2e-4bd0-b1bf-2c72698afe96",
        "_uuid": "4cdc8ebf9bc167498cace36993800c819556eb04",
        "id": "tZsTSfYK5vvb"
      },
      "source": [
        "# Importing necessary libraries\n",
        "import numpy as np\n",
        "import os\n",
        "import glob\n",
        "import cv2\n",
        "import matplotlib.pyplot as plt\n",
        "import pandas as pd\n",
        "import pickle\n",
        "from keras.utils import to_categorical\n",
        "from keras.layers import Dense, Input, Conv2D, Flatten, MaxPooling2D, Activation,Dropout\n",
        "from keras.models import Model\n",
        "from keras.callbacks import ModelCheckpoint\n",
        "from keras import backend as K\n",
        "from __future__ import print_function\n",
        "import keras\n",
        "from keras.models import Sequential\n",
        "from keras.layers import Dense, Activation\n",
        "from keras.utils import to_categorical\n",
        "from keras import backend as k\n",
        "%matplotlib inline\n",
        "import matplotlib.pyplot as plt\n",
        "from sklearn import model_selection\n",
        "import torch\n",
        "from torch import nn, optim, utils\n",
        "from torchvision import datasets, transforms"
      ],
      "execution_count": null,
      "outputs": []
    },
    {
      "cell_type": "markdown",
      "metadata": {
        "_cell_guid": "49f11a3e-7149-4877-b2d1-46bcc3876d3b",
        "_uuid": "12815b115dcf40bd1d14daa942fbe18dfc330ebf",
        "id": "XHczvaE25vvj"
      },
      "source": [
        "## Step 1: Process the data"
      ]
    },
    {
      "cell_type": "markdown",
      "metadata": {
        "_cell_guid": "45ef7b96-b4cb-46d5-a092-6eb10775cb3e",
        "_uuid": "5aab8d2c6139e67da8cac46a41b02dd3b0c16c1a",
        "id": "Yg6yjUXS5vvq"
      },
      "source": [
        "### Image Processing"
      ]
    },
    {
      "cell_type": "code",
      "source": [
        "# https://drive.google.com/file/d/1qnUw_wV1705XqEJ95wV8IF3GiM-yhMVj/view?usp=sharing\n",
        "!gdown 1qnUw_wV1705XqEJ95wV8IF3GiM-yhMVj"
      ],
      "metadata": {
        "id": "cz0lqe8iwzvL"
      },
      "execution_count": null,
      "outputs": []
    },
    {
      "cell_type": "code",
      "source": [
        "!unzip /content/arabic-dataset.zip"
      ],
      "metadata": {
        "id": "hP04HgM-zY-s"
      },
      "execution_count": null,
      "outputs": []
    },
    {
      "cell_type": "code",
      "source": [
        "\n",
        "df = pd.read_csv(\"/content/csvTrainImages 60k x 784.csv\", header=None)\n"
      ],
      "metadata": {
        "id": "8pNbKzQ-xOTo"
      },
      "execution_count": null,
      "outputs": []
    },
    {
      "cell_type": "code",
      "source": [
        "train_labels =  pd.read_csv(\"/content/csvTrainLabel 60k x 1.csv\", header=None)\n",
        "test_labels = pd.read_csv(\"/content/csvTestLabel 10k x 1.csv\", header=None)"
      ],
      "metadata": {
        "id": "stQqgw-Z5Qyl"
      },
      "execution_count": null,
      "outputs": []
    },
    {
      "cell_type": "code",
      "source": [
        "test_data = (pd.read_csv(\"/content/csvTestImages 10k x 784.csv\", header=None))"
      ],
      "metadata": {
        "id": "ww19Qo8P4gUv"
      },
      "execution_count": null,
      "outputs": []
    },
    {
      "cell_type": "code",
      "source": [
        "df.head()"
      ],
      "metadata": {
        "id": "SY9IUkB4Lmfd"
      },
      "execution_count": null,
      "outputs": []
    },
    {
      "cell_type": "code",
      "source": [
        "test_data = test_data.to_numpy()\n",
        "train_labels = train_labels.to_numpy()\n",
        "test_labels = test_labels.to_numpy()\n",
        "train_data = df.to_numpy()"
      ],
      "metadata": {
        "id": "6dgeHoVVJ0x8"
      },
      "execution_count": null,
      "outputs": []
    },
    {
      "cell_type": "code",
      "source": [
        "image = np.asarray(train_data[7,:]).squeeze().reshape([28,28])\n",
        "plt.imshow(image)\n",
        "plt.show()\n",
        "print(\"The image above represent:\")\n",
        "print((train_labels[7]))"
      ],
      "metadata": {
        "id": "6MyhfW4ezpct"
      },
      "execution_count": null,
      "outputs": []
    },
    {
      "cell_type": "code",
      "source": [
        "image = np.asarray(test_data[8,:]).squeeze().reshape([28,28])\n",
        "plt.imshow(image)\n",
        "plt.show()\n",
        "print(\"The image above represent:\")\n",
        "print((test_labels[8]))"
      ],
      "metadata": {
        "id": "IKBtMB815HhU"
      },
      "execution_count": null,
      "outputs": []
    },
    {
      "cell_type": "code",
      "source": [
        "num_labels = 10\n",
        "def reformat(labels):\n",
        "    # Map 0 to [1.0, 0.0, 0.0 ...], 1 to [0.0, 1.0, 0.0 ...]\n",
        "    labels = (np.arange(num_labels) == labels[:,None]).astype(np.float32)\n",
        "    return labels"
      ],
      "metadata": {
        "id": "KnjSaF3Q7vl1"
      },
      "execution_count": null,
      "outputs": []
    },
    {
      "cell_type": "code",
      "source": [
        "train_labels = reformat(train_labels)\n",
        "test_labels = reformat(test_labels)"
      ],
      "metadata": {
        "id": "iNPR7jaQ70dV"
      },
      "execution_count": null,
      "outputs": []
    },
    {
      "cell_type": "code",
      "source": [
        "x_train = train_data\n",
        "y_train = train_labels\n",
        "x_test = test_data\n",
        "y_test = test_labels"
      ],
      "metadata": {
        "id": "UJSIl88x98PQ"
      },
      "execution_count": null,
      "outputs": []
    },
    {
      "cell_type": "code",
      "source": [
        "y_train = y_train.reshape(x_train.shape[0],10)\n",
        "y_test = y_test.reshape(x_test.shape[0],10)"
      ],
      "metadata": {
        "id": "YQ7xK11HCFRV"
      },
      "execution_count": null,
      "outputs": []
    },
    {
      "cell_type": "code",
      "source": [
        "import cv2"
      ],
      "metadata": {
        "id": "L2JGZaBk_eyV"
      },
      "execution_count": null,
      "outputs": []
    },
    {
      "cell_type": "code",
      "source": [
        "img = np.array(np.asarray(x_train[1,:]).squeeze().reshape([28,28]),np.uint8)"
      ],
      "metadata": {
        "id": "TjvCLL7VJdqi"
      },
      "execution_count": null,
      "outputs": []
    },
    {
      "cell_type": "code",
      "source": [
        "plt.imshow(img)"
      ],
      "metadata": {
        "id": "rwV3Q6Wg8ueH"
      },
      "execution_count": null,
      "outputs": []
    },
    {
      "cell_type": "code",
      "source": [
        "def ap_aug(img):\n",
        "  img = np.array(np.asarray(img).squeeze().reshape([28,28]),np.uint8)\n",
        "  img=cv2.resize(img,(28,28),interpolation=cv2.INTER_AREA)\n",
        "  gaussian_3 = cv2.GaussianBlur(img, (9,9), 10.0)\n",
        "  img = cv2.addWeighted(img, 1.5, gaussian_3, -0.5, 0, img)\n",
        "  kernel = np.array([[-1,-1,-1], [-1,9,-1], [-1,-1,-1]]) #filter\n",
        "  img = cv2.filter2D(img, -1, kernel)\n",
        "  ret,img = cv2.threshold(img, 128, 255, cv2.THRESH_BINARY_INV+cv2.THRESH_OTSU)\n",
        "  return img"
      ],
      "metadata": {
        "id": "1q7WwrBtGB0g"
      },
      "execution_count": null,
      "outputs": []
    },
    {
      "cell_type": "code",
      "source": [
        "plt.imshow(ap_aug(np.array(np.asarray(x_train[1,:]).squeeze().reshape([28,28]),np.uint8)))"
      ],
      "metadata": {
        "id": "IahUt4vIJnAl"
      },
      "execution_count": null,
      "outputs": []
    },
    {
      "cell_type": "code",
      "source": [
        "plt.imshow(ap_aug(x_train[9]))"
      ],
      "metadata": {
        "id": "mNSZ0QuGDQlO"
      },
      "execution_count": null,
      "outputs": []
    },
    {
      "cell_type": "code",
      "source": [
        "x_train.shape, x_test.shape, y_train.shape, y_test.shape"
      ],
      "metadata": {
        "id": "IZw3XE0U-Eeu"
      },
      "execution_count": null,
      "outputs": []
    },
    {
      "cell_type": "code",
      "source": [
        "X=[]\n",
        "for i in range(len(x_train)):\n",
        "  img = ap_aug(x_train[i,:])\n",
        "  X.append(img)\n",
        "X = np.asarray(X)"
      ],
      "metadata": {
        "id": "tQ43R9OJHBf1"
      },
      "execution_count": null,
      "outputs": []
    },
    {
      "cell_type": "code",
      "source": [
        "Xt=[]\n",
        "for i in range(len(x_test)):\n",
        "  imgg = ap_aug(x_test[i,:])\n",
        "  Xt.append(imgg)\n",
        "Xt = np.asarray(Xt)"
      ],
      "metadata": {
        "id": "2DZAzm_BLgBP"
      },
      "execution_count": null,
      "outputs": []
    },
    {
      "cell_type": "markdown",
      "source": [
        "# Reshaping data to feed into the model"
      ],
      "metadata": {
        "id": "dG9x7FzhF2hu"
      }
    },
    {
      "cell_type": "code",
      "source": [
        "x_train = X.reshape(x_train.shape[0],28,28,1) / 255.0\n",
        "x_test = Xt.reshape(x_test.shape[0], 28, 28, 1) / 255.0"
      ],
      "metadata": {
        "id": "x3emjOcS-ias"
      },
      "execution_count": null,
      "outputs": []
    },
    {
      "cell_type": "code",
      "source": [
        "x_train.shape, x_test.shape"
      ],
      "metadata": {
        "id": "arhUQveC_hnL"
      },
      "execution_count": null,
      "outputs": []
    },
    {
      "cell_type": "markdown",
      "metadata": {
        "_cell_guid": "6a2f1c8a-4bdf-4307-b9ea-7841175be203",
        "_uuid": "08f095d0c3ee5f77e811fa1f8046756544f8cce6",
        "id": "6z5wBRxa5vvx"
      },
      "source": [
        "Let's see some samples of the processed data. The digits are more sharp now"
      ]
    },
    {
      "cell_type": "code",
      "metadata": {
        "_uuid": "e0b3d05de0d4a6d683f8bbf9dcadbecd557d8d7c",
        "id": "6YKxQtKc5vvy"
      },
      "source": [
        "plt.subplot(221)\n",
        "plt.imshow(x_train[1], cmap=plt.get_cmap('gray'))\n",
        "plt.subplot(222)\n",
        "plt.imshow(x_train[200], cmap=plt.get_cmap('gray'))\n",
        "plt.subplot(223)\n",
        "plt.imshow(x_train[6150], cmap=plt.get_cmap('gray'))\n",
        "plt.subplot(224)\n",
        "plt.imshow(x_train[5555], cmap=plt.get_cmap('gray'))\n",
        "# show the plot\n",
        "plt.show()"
      ],
      "execution_count": null,
      "outputs": []
    },
    {
      "cell_type": "markdown",
      "metadata": {
        "_cell_guid": "32382aae-4756-457e-af68-5fd94603ddfb",
        "_uuid": "ba5d4e25fb97b4afcb84f85c8788da6244afadaf",
        "id": "qQFsPI3S5vwG"
      },
      "source": [
        "## Step 2: Design the model"
      ]
    },
    {
      "cell_type": "code",
      "metadata": {
        "_uuid": "9748e26b1a1cbda489a438723277d7a93abcb3c8",
        "id": "m5Ff27HH5vwH"
      },
      "source": [
        "def my_model(img_size=28,channels=1):\n",
        "    model = Sequential()\n",
        "    input_shape = (img_size,img_size,channels)\n",
        "    model.add(Conv2D(32, (5, 5), input_shape=input_shape,activation='relu', padding='same'))\n",
        "    model.add(Conv2D(32, (5, 5), activation='relu', padding='same'))\n",
        "    model.add(MaxPooling2D(pool_size=(2, 2)))\n",
        "\n",
        "    model.add(Conv2D(128, (3, 3),activation='relu',padding='same'))\n",
        "    model.add(Conv2D(128, (3, 3),activation='relu',padding='same'))\n",
        "\n",
        "    model.add(MaxPooling2D(pool_size=(2, 2)))\n",
        "\n",
        "    model.add(Conv2D(256, (3, 3),activation='relu',padding='same'))\n",
        "    model.add(Conv2D(256, (3, 3),activation='relu',padding='same'))\n",
        "    model.add(MaxPooling2D(pool_size=(2, 2)))\n",
        "\n",
        "    model.add(Flatten())\n",
        "    model.add(Dense(64))\n",
        "    model.add(Activation('relu'))\n",
        "    model.add(Dropout(0.2))\n",
        "    model.add(Dense(10))\n",
        "    model.add(Activation('softmax'))\n",
        "\n",
        "    model.compile(loss='categorical_crossentropy', metrics=['accuracy'],optimizer='adam')\n",
        "    # UNCOMMENT THIS TO VIEW THE ARCHITECTURE\n",
        "    #model.summary()\n",
        "\n",
        "    return model\n",
        "model=my_model()\n",
        "model.summary()"
      ],
      "execution_count": null,
      "outputs": []
    },
    {
      "cell_type": "markdown",
      "metadata": {
        "_cell_guid": "ee9607d4-40d3-449d-948d-ca743a6f9d77",
        "_uuid": "0b0adac9af387df7adc0cf26954802305849396e",
        "id": "HKEyRXhG5vwJ"
      },
      "source": [
        "## Step 3: Train the model"
      ]
    },
    {
      "cell_type": "code",
      "source": [
        "path_model_64='arabic64-model_filter.h5' # save model at this location after each epoch\n",
        "\n",
        "model=my_model() # create the model\n",
        "K.set_value(model.optimizer.lr,1e-3) # set the learning rate\n",
        "# fit the model\n",
        "h=model.fit(x=x_train,\n",
        "            y=y_train,\n",
        "            batch_size=64,\n",
        "            epochs=10,\n",
        "            verbose=1,\n",
        "            validation_data=(x_test,y_test),\n",
        "            shuffle=True,\n",
        "            callbacks=[\n",
        "                ModelCheckpoint(filepath=path_model_64),\n",
        "            ]\n",
        "            )"
      ],
      "metadata": {
        "id": "BrLhMEc-ZVea"
      },
      "execution_count": null,
      "outputs": []
    },
    {
      "cell_type": "code",
      "metadata": {
        "_cell_guid": "383c8574-c022-4a52-a3d9-f6c7edabc44d",
        "_uuid": "0b019de716cc8c0ab602d2600b590d83e310fb1f",
        "id": "2EDsSP3H5vwN"
      },
      "source": [
        "predictions_prob=model.predict(x_test) # get predictions for all the test data"
      ],
      "execution_count": null,
      "outputs": []
    },
    {
      "cell_type": "code",
      "source": [
        "x_test.shape"
      ],
      "metadata": {
        "id": "332FbYzDZpT6"
      },
      "execution_count": null,
      "outputs": []
    },
    {
      "cell_type": "code",
      "metadata": {
        "_cell_guid": "d0993d24-b26d-4934-84a0-ac145f4e8594",
        "_uuid": "4822a937ea504052db7b326595866e7a276e0a2a",
        "id": "WWcx9YXO5vwO"
      },
      "source": [
        "n_sample=200\n",
        "np.random.seed(42)\n",
        "ind=np.random.randint(0,len(x_test), size=n_sample)"
      ],
      "execution_count": null,
      "outputs": []
    },
    {
      "cell_type": "code",
      "source": [
        "#Declaring constants\n",
        "FIG_WIDTH=20 # Width of figure\n",
        "HEIGHT_PER_ROW=3 # Height of each row when showing a figure which consists of multiple rows\n",
        "RESIZE_DIM=28 # The images will be resized to 28x28 pixels"
      ],
      "metadata": {
        "id": "Sv9NLboSM63j"
      },
      "execution_count": null,
      "outputs": []
    },
    {
      "cell_type": "code",
      "source": [
        "def imshow_group(X,y,y_pred=None,n_per_row=10,phase='processed'):\n",
        "    '''helper function to visualize a group of images along with their categorical true labels (y) and prediction probabilities.\n",
        "    Args:\n",
        "        X: images\n",
        "        y: categorical true labels\n",
        "        y_pred: predicted class probabilities\n",
        "        n_per_row: number of images per row to be plotted\n",
        "        phase: If the images are plotted after resizing, pass 'processed' to phase argument.\n",
        "            It will plot the image and its true label. If the image is plotted after prediction\n",
        "            phase, pass predicted class probabilities to y_pred and 'prediction' to the phase argument.\n",
        "            It will plot the image, the true label, and it's top 3 predictions with highest probabilities.\n",
        "    '''\n",
        "    n_sample=len(X)\n",
        "    img_dim=X.shape[1]\n",
        "    j=int(np.ceil(n_sample/n_per_row))\n",
        "    fig=plt.figure(figsize=(FIG_WIDTH,HEIGHT_PER_ROW*j))\n",
        "    for i,img in enumerate(X):\n",
        "        plt.subplot(j,n_per_row,i+1)\n",
        "#         img_sq=np.squeeze(img,axis=2)\n",
        "#         plt.imshow(img_sq,cmap='gray')\n",
        "        plt.imshow(img)\n",
        "        if phase=='processed':\n",
        "            plt.title(np.argmax(y[i]))\n",
        "        if phase=='prediction':\n",
        "            top_n=3 # top 3 predictions with highest probabilities\n",
        "            ind_sorted=np.argsort(y_pred[i])[::-1]\n",
        "            h=img_dim+4\n",
        "            for k in range(top_n):\n",
        "                string='pred: {} ({:.0f}%)\\n'.format(ind_sorted[k],y_pred[i,ind_sorted[k]]*100)\n",
        "                plt.text(img_dim/2, h, string, horizontalalignment='center',verticalalignment='center')\n",
        "                h+=4\n",
        "            if y is not None:\n",
        "                plt.text(img_dim/2, -4, 'true label: {}'.format(np.argmax(y[i])),\n",
        "                         horizontalalignment='center',verticalalignment='center')\n",
        "        plt.axis('off')\n",
        "    plt.show()"
      ],
      "metadata": {
        "id": "OXzk04QfMy3V"
      },
      "execution_count": null,
      "outputs": []
    },
    {
      "cell_type": "code",
      "metadata": {
        "_cell_guid": "9f4260e9-e5e6-4b5e-8565-d5bed1bbc359",
        "_uuid": "2b6ec0f33275de9e2b2a4b0bd12b202f8d067551",
        "id": "3QL41zbG5vwP"
      },
      "source": [
        "imshow_group(X=x_test[ind],y=None,y_pred=predictions_prob[ind], phase='prediction')"
      ],
      "execution_count": null,
      "outputs": []
    },
    {
      "cell_type": "code",
      "source": [
        "def visualize_model(model, num_images=6, temp=0):\n",
        "  for i in range(num_images):\n",
        "\n",
        "    image = x_test[temp]\n",
        "    plt.imshow(image)\n",
        "    plt.show()\n",
        "    print(\"The image above represent:\")\n",
        "    print(np.argmax(predictions_prob[temp]))\n",
        "    temp = temp+4\n"
      ],
      "metadata": {
        "id": "TzMBs3bfHEjq"
      },
      "execution_count": null,
      "outputs": []
    },
    {
      "cell_type": "code",
      "source": [
        "visualize_model(model)"
      ],
      "metadata": {
        "id": "kPscjUbkIMNK"
      },
      "execution_count": null,
      "outputs": []
    },
    {
      "cell_type": "code",
      "source": [
        "y_pred = predictions_prob"
      ],
      "metadata": {
        "id": "GoHoL_steqV4"
      },
      "execution_count": null,
      "outputs": []
    },
    {
      "cell_type": "code",
      "source": [
        "test = np.argmax(y_test, axis=1)"
      ],
      "metadata": {
        "id": "iuwwzUw9fRu3"
      },
      "execution_count": null,
      "outputs": []
    },
    {
      "cell_type": "code",
      "source": [
        "from sklearn.metrics import confusion_matrix\n",
        "\n",
        "confusion = confusion_matrix(np.argmax(y_test,axis=1), np.argmax(predictions_prob,axis=1))"
      ],
      "metadata": {
        "id": "Ja71iJ7VuBdo"
      },
      "execution_count": null,
      "outputs": []
    },
    {
      "cell_type": "code",
      "source": [
        "confusion"
      ],
      "metadata": {
        "id": "qk_khXsHuywp"
      },
      "execution_count": null,
      "outputs": []
    },
    {
      "cell_type": "code",
      "source": [
        "from mlxtend.plotting import plot_confusion_matrix\n",
        "\n",
        "fig, ax = plot_confusion_matrix(conf_mat=confusion, figsize=(8, 6), cmap=plt.cm.Greens)\n",
        "plt.xlabel('Predictions', fontsize=18)\n",
        "plt.ylabel('Actuals', fontsize=18)\n",
        "plt.title('Confusion Matrix', fontsize=18)\n",
        "plt.show()"
      ],
      "metadata": {
        "id": "X7CJFJPDziDu"
      },
      "execution_count": null,
      "outputs": []
    },
    {
      "cell_type": "markdown",
      "source": [
        "## Classification Report"
      ],
      "metadata": {
        "id": "Z5Hut3BS4fxw"
      }
    },
    {
      "cell_type": "code",
      "source": [
        "from sklearn.metrics import classification_report\n",
        "\n",
        "target_names = ['class 0', 'class 1', 'class 2','class 3','class 4','class 5','class 6','class 7','class 8','class 9']\n",
        "print(classification_report(np.argmax(y_test,axis=1), np.argmax(predictions_prob,axis=1), target_names=target_names))"
      ],
      "metadata": {
        "id": "ZADiE36_4knu"
      },
      "execution_count": null,
      "outputs": []
    },
    {
      "cell_type": "code",
      "source": [
        "import keras.utils as image\n",
        "\n",
        "from google.colab import files"
      ],
      "metadata": {
        "id": "I707s82sUD6p"
      },
      "execution_count": null,
      "outputs": []
    },
    {
      "cell_type": "code",
      "source": [
        "# Model Prediction\n",
        "print(\"========================== Model Prediction ==========================\")\n",
        "uploaded = files.upload()\n",
        "\n",
        "for fn in uploaded.keys():\n",
        "  path = '/content/' + fn\n",
        "  img = image.load_img(path)\n",
        "  x = image.img_to_array(img)\n",
        "  x = cv2.cvtColor(x, cv2.COLOR_BGR2GRAY)\n",
        "  print(\"**************** Uploaded Image ****************\")\n",
        "  plt.imshow(x,cmap='gray')\n",
        "  plt.show()\n",
        "  x = cv2.resize(np.array(x), (28, 28))\n",
        "  x = x.reshape(28,28,1)\n",
        "  #x = ap_aug(x)\n",
        "  x= x/255.0\n",
        "  x = np.expand_dims(x, axis=0)\n",
        "\n",
        "  class_label = model.predict(x.reshape(1,28,28,1))\n",
        "  print(class_label)\n",
        "  print(\"Predicted Value is:\",np.where(class_label[0]==max(class_label[0]))[0])"
      ],
      "metadata": {
        "id": "jemrICrPgf_r"
      },
      "execution_count": null,
      "outputs": []
    },
    {
      "cell_type": "code",
      "source": [],
      "metadata": {
        "id": "LdGJc2-laIuo"
      },
      "execution_count": null,
      "outputs": []
    }
  ]
}