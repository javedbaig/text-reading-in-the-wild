{
  "nbformat": 4,
  "nbformat_minor": 0,
  "metadata": {
    "colab": {
      "provenance": [],
      "include_colab_link": true
    },
    "language_info": {
      "codemirror_mode": {
        "name": "ipython",
        "version": 3
      },
      "file_extension": ".py",
      "mimetype": "text/x-python",
      "name": "python",
      "nbconvert_exporter": "python",
      "pygments_lexer": "ipython3",
      "version": "3.6.5"
    },
    "kernelspec": {
      "display_name": "Python 3",
      "language": "python",
      "name": "python3"
    }
  },
  "cells": [
    {
      "cell_type": "markdown",
      "metadata": {
        "id": "view-in-github",
        "colab_type": "text"
      },
      "source": [
        "<a href=\"https://colab.research.google.com/github/javedbaig/text-reading-in-the-wild/blob/main/SOTA_Bengali_Digit_Recognizer_using_CNN.ipynb\" target=\"_parent\"><img src=\"https://colab.research.google.com/assets/colab-badge.svg\" alt=\"Open In Colab\"/></a>"
      ]
    },
    {
      "cell_type": "markdown",
      "metadata": {
        "_cell_guid": "d93e43c9-8a48-41c7-93f2-1dbeec38f80e",
        "_uuid": "b2538ad6607dc541ad42195df42b3c70ecdd59a3",
        "id": "asmJRuOT5vvY"
      },
      "source": [
        "# Bangla Digit Recognizer"
      ]
    },
    {
      "cell_type": "code",
      "metadata": {
        "_cell_guid": "c386cfd1-3d2e-4bd0-b1bf-2c72698afe96",
        "_uuid": "4cdc8ebf9bc167498cace36993800c819556eb04",
        "id": "tZsTSfYK5vvb"
      },
      "source": [
        "# Importing necessary libraries\n",
        "import numpy as np\n",
        "import os\n",
        "import glob\n",
        "import cv2\n",
        "import matplotlib.pyplot as plt\n",
        "import pandas as pd\n",
        "import pickle\n",
        "from keras.utils import to_categorical\n",
        "from keras.layers import Dense, Input, Conv2D, Flatten, MaxPooling2D, Activation,Dropout\n",
        "from keras.models import Model\n",
        "from keras.callbacks import ModelCheckpoint\n",
        "from keras import backend as K\n",
        "from __future__ import print_function\n",
        "import keras\n",
        "from keras.models import Sequential\n",
        "from keras.layers import Dense, Activation\n",
        "from keras.utils import to_categorical\n",
        "from keras import backend as k\n",
        "%matplotlib inline\n",
        "import matplotlib.pyplot as plt\n",
        "import numpy as np"
      ],
      "execution_count": 1,
      "outputs": []
    },
    {
      "cell_type": "markdown",
      "metadata": {
        "_cell_guid": "49f11a3e-7149-4877-b2d1-46bcc3876d3b",
        "_uuid": "12815b115dcf40bd1d14daa942fbe18dfc330ebf",
        "id": "XHczvaE25vvj"
      },
      "source": [
        "## Step 1: Process the data"
      ]
    },
    {
      "cell_type": "markdown",
      "metadata": {
        "_cell_guid": "db9ec487-5a21-4289-9b9a-f2649e94955a",
        "_uuid": "5e998f2691200a0019ad2e3940d5acee12e628be",
        "id": "QlFAsrlV5vvk"
      },
      "source": [
        "Our dataset comes from six different source."
      ]
    },
    {
      "cell_type": "code",
      "metadata": {
        "_cell_guid": "a42ae61e-565e-48ae-b618-370dc4bd3718",
        "_uuid": "8f087bcd8bb6c49f440bd5bea4769ddd692d291e",
        "id": "tNtw5xWY5vvl"
      },
      "source": [
        "#Declaring constants\n",
        "FIG_WIDTH=20 # Width of figure\n",
        "HEIGHT_PER_ROW=3 # Height of each row when showing a figure which consists of multiple rows\n",
        "RESIZE_DIM=32 # The images will be resized to 28x28 pixels"
      ],
      "execution_count": 2,
      "outputs": []
    },
    {
      "cell_type": "code",
      "metadata": {
        "_uuid": "5dfa2840e7fa2af7ca3ff13dcb92308f41caf244",
        "id": "lpYm-csX5vvp"
      },
      "source": [
        "#data_dir=os.path.join('..','NumtaDB_with_aug')\n",
        "#paths_train_a=glob.glob(os.path.join(data_dir,'training-a','*.png'))\n",
        "#paths_train_b=glob.glob(os.path.join(data_dir,'training-b','*.png'))\n",
        "#paths_train_e=glob.glob(os.path.join(data_dir,'training-e','*.png'))\n",
        "#paths_train_c=glob.glob(os.path.join(data_dir,'training-c','*.png'))\n",
        "#paths_train_d=glob.glob(os.path.join(data_dir,'training-d','*.png'))\n",
        "#paths_train_all=paths_train_a+paths_train_b+paths_train_c+paths_train_d+paths_train_e\n",
        "#\n",
        "#paths_test_a=glob.glob(os.path.join(data_dir,'testing-a','*.png'))\n",
        "#paths_test_b=glob.glob(os.path.join(data_dir,'testing-b','*.png'))\n",
        "#paths_test_e=glob.glob(os.path.join(data_dir,'testing-e','*.png'))\n",
        "#paths_test_c=glob.glob(os.path.join(data_dir,'testing-c','*.png'))\n",
        "#paths_test_d=glob.glob(os.path.join(data_dir,'testing-d','*.png'))\n",
        "#paths_test_f=glob.glob(os.path.join(data_dir,'testing-f','*.png'))+glob.glob(os.path.join(data_dir,'testing-f','*.JPG'))\n",
        "#paths_test_auga=glob.glob(os.path.join(data_dir,'testing-auga','*.png'))\n",
        "#paths_test_augc=glob.glob(os.path.join(data_dir,'testing-augc','*.png'))\n",
        "#paths_test_all=paths_test_a+paths_test_b+paths_test_c+paths_test_d+paths_test_e+paths_test_f+paths_test_auga+paths_test_augc\n",
        "#\n",
        "#path_label_train_a=os.path.join(data_dir,'training-a.csv')\n",
        "#path_label_train_b=os.path.join(data_dir,'training-b.csv')\n",
        "#path_label_train_e=os.path.join(data_dir,'training-e.csv')\n",
        "#path_label_train_c=os.path.join(data_dir,'training-c.csv')\n",
        "#path_label_train_d=os.path.join(data_dir,'training-d.csv')"
      ],
      "execution_count": null,
      "outputs": []
    },
    {
      "cell_type": "code",
      "source": [
        "paths_train_a = glob.glob(os.path.join('/content/train_a','*png'))\n",
        "paths_test_a = glob.glob(os.path.join('/content/test-a','*png'))"
      ],
      "metadata": {
        "id": "FBB1zchj8V78"
      },
      "execution_count": 31,
      "outputs": []
    },
    {
      "cell_type": "code",
      "source": [
        "paths_test_a[0]"
      ],
      "metadata": {
        "colab": {
          "base_uri": "https://localhost:8080/",
          "height": 36
        },
        "id": "JIe8W2t3JMgz",
        "outputId": "70a602cf-8297-4947-b066-4fb23ee1bb06"
      },
      "execution_count": 48,
      "outputs": [
        {
          "output_type": "execute_result",
          "data": {
            "text/plain": [
              "'/content/test-a/a00016.png'"
            ],
            "application/vnd.google.colaboratory.intrinsic+json": {
              "type": "string"
            }
          },
          "metadata": {},
          "execution_count": 48
        }
      ]
    },
    {
      "cell_type": "code",
      "source": [
        "img=cv2.imread(paths_train_a[0],cv2.IMREAD_GRAYSCALE)"
      ],
      "metadata": {
        "id": "kfoQBchLKvjZ"
      },
      "execution_count": 56,
      "outputs": []
    },
    {
      "cell_type": "code",
      "source": [
        "img=cv2.resize(img,(RESIZE_DIM,RESIZE_DIM),interpolation=cv2.INTER_AREA)"
      ],
      "metadata": {
        "id": "y9ULNO8oMWgV"
      },
      "execution_count": 60,
      "outputs": []
    },
    {
      "cell_type": "code",
      "source": [
        "gaussian_3 = cv2.GaussianBlur(img, (9,9), 10.0) #unblur\n",
        "img = cv2.addWeighted(img, 1.5, gaussian_3, -0.5, 0, img)\n",
        "kernel = np.array([[-1,-1,-1], [-1,9,-1], [-1,-1,-1]]) #filter\n",
        "img = cv2.filter2D(img, -1, kernel)"
      ],
      "metadata": {
        "id": "ILfL4vfAMraE"
      },
      "execution_count": 63,
      "outputs": []
    },
    {
      "cell_type": "code",
      "source": [
        "img"
      ],
      "metadata": {
        "colab": {
          "base_uri": "https://localhost:8080/"
        },
        "id": "fok1OVRrKw0_",
        "outputId": "8f88763a-7007-4246-a203-f6ebde2dea48"
      },
      "execution_count": 64,
      "outputs": [
        {
          "output_type": "execute_result",
          "data": {
            "text/plain": [
              "array([[202, 204, 218, ..., 219, 212, 227],\n",
              "       [248, 246, 221, ..., 255, 238, 221],\n",
              "       [216, 216, 237, ..., 215, 217, 219],\n",
              "       ...,\n",
              "       [218, 205, 232, ..., 222, 221, 221],\n",
              "       [224, 240, 255, ..., 232, 233, 224],\n",
              "       [218, 215, 200, ..., 230, 221, 222]], dtype=uint8)"
            ]
          },
          "metadata": {},
          "execution_count": 64
        }
      ]
    },
    {
      "cell_type": "code",
      "source": [
        "plt.imshow(img)"
      ],
      "metadata": {
        "id": "TY5KSkZ4K9vL"
      },
      "execution_count": null,
      "outputs": []
    },
    {
      "cell_type": "code",
      "source": [
        "paths_train_all = glob.glob(os.path.join('/content/train_a','*png'))\n",
        "paths_test_all = glob.glob(os.path.join('/content/test-a','*png'))\n"
      ],
      "metadata": {
        "id": "AhbXuf1R5Tbg"
      },
      "execution_count": 32,
      "outputs": []
    },
    {
      "cell_type": "code",
      "source": [
        "path_label_train_a = ('/content/training-a.csv')"
      ],
      "metadata": {
        "id": "pUSukUG0X57o"
      },
      "execution_count": 84,
      "outputs": []
    },
    {
      "cell_type": "code",
      "source": [
        "path_label_train_a.loc[0]"
      ],
      "metadata": {
        "colab": {
          "base_uri": "https://localhost:8080/"
        },
        "id": "mp_UJVI5PpNb",
        "outputId": "ba048034-6392-4e66-b049-44b399a1f4ad"
      },
      "execution_count": 72,
      "outputs": [
        {
          "output_type": "execute_result",
          "data": {
            "text/plain": [
              "filename                                 a00000.png\n",
              "original filename         Scan_58_digit_5_num_8.png\n",
              "scanid                                           58\n",
              "digit                                             5\n",
              "database name original                        BHDDB\n",
              "contributing team                      Buet_Broncos\n",
              "database name                            training-a\n",
              "Name: 0, dtype: object"
            ]
          },
          "metadata": {},
          "execution_count": 72
        }
      ]
    },
    {
      "cell_type": "markdown",
      "metadata": {
        "_cell_guid": "45ef7b96-b4cb-46d5-a092-6eb10775cb3e",
        "_uuid": "5aab8d2c6139e67da8cac46a41b02dd3b0c16c1a",
        "id": "Yg6yjUXS5vvq"
      },
      "source": [
        "### Image Processing"
      ]
    },
    {
      "cell_type": "markdown",
      "metadata": {
        "_cell_guid": "7ee61a9a-b469-4fae-8770-3981bb601a68",
        "_uuid": "21cd71c9e6faa386a2c5829cf3a3e636b338f280",
        "id": "55CiGH6k5vvq"
      },
      "source": [
        "We shall write some helper functions to process and visualize the images. We will convert color to gray scale image. For better understanding we will unblur the image and make image sharp by using laplacian filter."
      ]
    },
    {
      "cell_type": "code",
      "metadata": {
        "_cell_guid": "87d7081d-aa4a-48b9-b1a4-575ceceb2eb3",
        "_uuid": "aa19885280eef5dfed1f8378d668ea7f025a7925",
        "id": "P5HOjz6h5vvr"
      },
      "source": [
        "def get_key(path):\n",
        "    # seperates the key of an image from the filepath\n",
        "    key=path.split(sep=os.sep)[-1]\n",
        "    return key\n",
        "\n",
        "def get_data(paths_img,path_label=None,resize_dim=None):\n",
        "    '''reads images from the filepaths, resizes them (if given), and returns them in a numpy array\n",
        "    Args:\n",
        "        paths_img: image filepaths\n",
        "        path_label: pass image label filepaths while processing training data, defaults to None while processing testing data\n",
        "        resize_dim: if given, the image is resized to resize_dim x resize_dim (optional)\n",
        "    Returns:\n",
        "        X: group of images\n",
        "        y: categorical true labels\n",
        "    '''\n",
        "    X=[] # initialize empty list for resized images\n",
        "    for i,path in enumerate(paths_img):\n",
        "        img=cv2.imread(path,cv2.IMREAD_GRAYSCALE) # images loaded in color (BGR)\n",
        "        #img = cv2.bilateralFilter(img,9,75,75)\n",
        "        #img = cv2.medianBlur(img,5)\n",
        "        #img = cv2.fastNlMeansDenoisingColored(img,None,10,10,7,21)\n",
        "        #img=cv2.cvtColor(img,cv2.COLOR_BGR2GRAY) # cnahging colorspace to GRAY\n",
        "        if resize_dim is not None:\n",
        "            img=cv2.resize(img,(resize_dim,resize_dim),interpolation=cv2.INTER_AREA) # resize image to 28x28\n",
        "        #X.append(np.expand_dims(img,axis=2)) # expand image to 28x28x1 and append to the list.\n",
        "        gaussian_3 = cv2.GaussianBlur(img, (9,9), 10.0) #unblur\n",
        "        img = cv2.addWeighted(img, 1.5, gaussian_3, -0.5, 0, img)\n",
        "        kernel = np.array([[-1,-1,-1], [-1,9,-1], [-1,-1,-1]]) #filter\n",
        "        img = cv2.filter2D(img, -1, kernel)\n",
        "        #thresh = 200\n",
        "        #maxValue = 255\n",
        "        #th, img = cv2.threshold(img, thresh, maxValue, cv2.THRESH_BINARY);\n",
        "        ret,img = cv2.threshold(img, 128, 255, cv2.THRESH_BINARY_INV+cv2.THRESH_OTSU)\n",
        "        X.append(img) # expand image to 28x28x1 and append to the list\n",
        "        # display progress\n",
        "        if i==len(paths_img)-1:\n",
        "            end='\\n'\n",
        "        else: end='\\r'\n",
        "        print('processed {}/{}'.format(i+1,len(paths_img)),end=end)\n",
        "\n",
        "    X=np.array(X) # tranform list to numpy array\n",
        "    new_label = path_label\n",
        "    if  new_label is None:\n",
        "        return X\n",
        "    else:\n",
        "        df = pd.read_csv(path_label) # read labels\n",
        "        df=df.set_index('filename')\n",
        "        y_label=[df.loc[get_key(path)]['digit'] for path in  paths_img] # get the labels corresponding to the images\n",
        "        y=to_categorical(y_label,10) # transfrom integer value to categorical variable\n",
        "        return X, y\n",
        "\n",
        "def imshow_group(X,y,y_pred=None,n_per_row=10,phase='processed'):\n",
        "    '''helper function to visualize a group of images along with their categorical true labels (y) and prediction probabilities.\n",
        "    Args:\n",
        "        X: images\n",
        "        y: categorical true labels\n",
        "        y_pred: predicted class probabilities\n",
        "        n_per_row: number of images per row to be plotted\n",
        "        phase: If the images are plotted after resizing, pass 'processed' to phase argument.\n",
        "            It will plot the image and its true label. If the image is plotted after prediction\n",
        "            phase, pass predicted class probabilities to y_pred and 'prediction' to the phase argument.\n",
        "            It will plot the image, the true label, and it's top 3 predictions with highest probabilities.\n",
        "    '''\n",
        "    n_sample=len(X)\n",
        "    img_dim=X.shape[1]\n",
        "    j=int(np.ceil(n_sample/n_per_row))\n",
        "    fig=plt.figure(figsize=(FIG_WIDTH,HEIGHT_PER_ROW*j))\n",
        "    for i,img in enumerate(X):\n",
        "        plt.subplot(j,n_per_row,i+1)\n",
        "#         img_sq=np.squeeze(img,axis=2)\n",
        "#         plt.imshow(img_sq,cmap='gray')\n",
        "        plt.imshow(img)\n",
        "        if phase=='processed':\n",
        "            plt.title(np.argmax(y[i]))\n",
        "        if phase=='prediction':\n",
        "            top_n=3 # top 3 predictions with highest probabilities\n",
        "            ind_sorted=np.argsort(y_pred[i])[::-1]\n",
        "            h=img_dim+4\n",
        "            for k in range(top_n):\n",
        "                string='pred: {} ({:.0f}%)\\n'.format(ind_sorted[k],y_pred[i,ind_sorted[k]]*100)\n",
        "                plt.text(img_dim/2, h, string, horizontalalignment='center',verticalalignment='center')\n",
        "                h+=4\n",
        "            if y is not None:\n",
        "                plt.text(img_dim/2, -4, 'true label: {}'.format(np.argmax(y[i])),\n",
        "                         horizontalalignment='center',verticalalignment='center')\n",
        "        plt.axis('off')\n",
        "    plt.show()\n",
        "\n",
        "def create_submission(predictions,keys,path):\n",
        "    result = pd.DataFrame(\n",
        "        predictions,\n",
        "        columns=['label'],\n",
        "        index=keys\n",
        "        )\n",
        "    result.index.name='key'\n",
        "    result.to_csv(path, index=True)"
      ],
      "execution_count": 153,
      "outputs": []
    },
    {
      "cell_type": "markdown",
      "metadata": {
        "_cell_guid": "541cbb22-5319-490a-b6a4-8999db770722",
        "_uuid": "01fee24b540458889ebaa9d86b7646e5264e5b1e",
        "id": "SnwznmaI5vvs"
      },
      "source": [
        "Next we are going to use the `get_data()` function to process all the images from dataset"
      ]
    },
    {
      "cell_type": "code",
      "metadata": {
        "_uuid": "e4d65fdcac01f5d367ce863d79d22fbbf9b36b86",
        "id": "Jjdsm8aM5vvs",
        "colab": {
          "base_uri": "https://localhost:8080/"
        },
        "outputId": "22964b5a-4b3a-492b-b8e7-d14c43f5c860"
      },
      "source": [
        "X_train_a, y_train_a = get_data(paths_train_a,path_label_train_a,resize_dim=RESIZE_DIM)\n"
      ],
      "execution_count": 86,
      "outputs": [
        {
          "output_type": "stream",
          "name": "stdout",
          "text": [
            "processed 300/300\n"
          ]
        }
      ]
    },
    {
      "cell_type": "code",
      "metadata": {
        "_cell_guid": "620a40d9-36f8-49fa-b96c-b823999daad0",
        "_uuid": "1d06bb5aaa056f719a918be3206c3f6b2e738e0b",
        "scrolled": true,
        "id": "O2Eu3gYk5vvu",
        "outputId": "63fadabf-97e6-4d27-9beb-c8dcd773845b",
        "colab": {
          "base_uri": "https://localhost:8080/"
        }
      },
      "source": [
        "\n",
        "X_train_a.shape, y_train_a.shape"
      ],
      "execution_count": 91,
      "outputs": [
        {
          "output_type": "execute_result",
          "data": {
            "text/plain": [
              "((300, 32, 32), (300, 10))"
            ]
          },
          "metadata": {},
          "execution_count": 91
        }
      ]
    },
    {
      "cell_type": "code",
      "metadata": {
        "_uuid": "ed3a982e1b9ac0b91ae9368c546d0d0447cc5fca",
        "id": "TRZVRgXq5vvw"
      },
      "source": [
        "X_train_all=X_train_a"
      ],
      "execution_count": 92,
      "outputs": []
    },
    {
      "cell_type": "markdown",
      "metadata": {
        "_cell_guid": "6a2f1c8a-4bdf-4307-b9ea-7841175be203",
        "_uuid": "08f095d0c3ee5f77e811fa1f8046756544f8cce6",
        "id": "6z5wBRxa5vvx"
      },
      "source": [
        "Let's see some samples of the processed data. The digits are more sharp now"
      ]
    },
    {
      "cell_type": "code",
      "metadata": {
        "_uuid": "e0b3d05de0d4a6d683f8bbf9dcadbecd557d8d7c",
        "id": "6YKxQtKc5vvy",
        "outputId": "4452fe83-e2c6-47e5-e319-100740db2691",
        "colab": {
          "base_uri": "https://localhost:8080/",
          "height": 433
        }
      },
      "source": [
        "plt.subplot(221)\n",
        "plt.imshow(X_train_all[0], cmap=plt.get_cmap('gray'))\n",
        "plt.subplot(222)\n",
        "plt.imshow(X_train_all[1], cmap=plt.get_cmap('gray'))\n",
        "plt.subplot(223)\n",
        "plt.imshow(X_train_all[2], cmap=plt.get_cmap('gray'))\n",
        "plt.subplot(224)\n",
        "plt.imshow(X_train_all[3], cmap=plt.get_cmap('gray'))\n",
        "# show the plot\n",
        "plt.show()"
      ],
      "execution_count": 93,
      "outputs": [
        {
          "output_type": "display_data",
          "data": {
            "text/plain": [
              "<Figure size 640x480 with 4 Axes>"
            ],
            "image/png": "[encoded data removed]"
          },
          "metadata": {}
        }
      ]
    },
    {
      "cell_type": "markdown",
      "metadata": {
        "_uuid": "4a5791e2c7d37e6c230dd8ef5fdfb6f7b592cdb6",
        "id": "Hv2YduCx5vv0"
      },
      "source": [
        "**Histogram of digit**"
      ]
    },
    {
      "cell_type": "code",
      "metadata": {
        "_uuid": "c9d6d00dc0cdda91eb8baaecb33b497c4a216385",
        "id": "7hk9fT_05vv0",
        "outputId": "dd75e9f5-9ab7-4e00-d048-323a02442f1b",
        "colab": {
          "base_uri": "https://localhost:8080/",
          "height": 430
        }
      },
      "source": [
        "imgg=X_train_all[1]\n",
        "hist = cv2.calcHist([imgg],[0],None,[256],[0,256])\n",
        "plt.hist(imgg.ravel(),256,[0,256])\n",
        "\n",
        "# show the plotting graph of an image\n",
        "\n",
        "plt.show()"
      ],
      "execution_count": 94,
      "outputs": [
        {
          "output_type": "display_data",
          "data": {
            "text/plain": [
              "<Figure size 640x480 with 1 Axes>"
            ],
            "image/png": "[encoded data removed]"
          },
          "metadata": {}
        }
      ]
    },
    {
      "cell_type": "code",
      "metadata": {
        "_uuid": "193edae07f21588132a68d0eed2b1f4646cf8a28",
        "id": "AI5ce1xM5vv2",
        "outputId": "ee0d3629-db25-489f-a06e-bc066c2bd291",
        "colab": {
          "base_uri": "https://localhost:8080/",
          "height": 447
        }
      },
      "source": [
        "plt.imshow(X_train_all[1])"
      ],
      "execution_count": 95,
      "outputs": [
        {
          "output_type": "execute_result",
          "data": {
            "text/plain": [
              "<matplotlib.image.AxesImage at 0x7f6e1a4df2e0>"
            ]
          },
          "metadata": {},
          "execution_count": 95
        },
        {
          "output_type": "display_data",
          "data": {
            "text/plain": [
              "<Figure size 640x480 with 1 Axes>"
            ],
            "image/png": "[encoded data removed]"
          },
          "metadata": {}
        }
      ]
    },
    {
      "cell_type": "code",
      "source": [
        "X_test_a=get_data(paths_test_a,resize_dim=RESIZE_DIM)"
      ],
      "metadata": {
        "id": "2zBoI2YUV8W0"
      },
      "execution_count": null,
      "outputs": []
    },
    {
      "cell_type": "code",
      "metadata": {
        "_cell_guid": "5930fd41-039e-4385-b753-127a5e3494ce",
        "_uuid": "57a68268499ba8d1d68d6b62d45f6c64a6453d53",
        "id": "XnbJhwPN5vv3",
        "outputId": "3bb9d7cc-7030-480e-ff4f-89be837e8e72"
      },
      "source": [
        "#X_test_a=get_data(paths_test_a,resize_dim=RESIZE_DIM)\n",
        "#X_test_b=get_data(paths_test_b,resize_dim=RESIZE_DIM)\n",
        "#X_test_c=get_data(paths_test_c,resize_dim=RESIZE_DIM)\n",
        "#X_test_d=get_data(paths_test_d,resize_dim=RESIZE_DIM)\n",
        "#X_test_e=get_data(paths_test_e,resize_dim=RESIZE_DIM)\n",
        "#X_test_f=get_data(paths_test_f,resize_dim=RESIZE_DIM)\n",
        "#X_test_auga=get_data(paths_test_auga,resize_dim=RESIZE_DIM)\n",
        "#X_test_augc=get_data(paths_test_augc,resize_dim=RESIZE_DIM)"
      ],
      "execution_count": null,
      "outputs": [
        {
          "output_type": "stream",
          "text": [
            "processed 3489/3489\n",
            "processed 69/69\n",
            "processed 4381/4381\n",
            "processed 1948/1948\n",
            "processed 2970/2970\n",
            "processed 495/495\n",
            "processed 2168/2168\n",
            "processed 2106/2106\n"
          ],
          "name": "stdout"
        }
      ]
    },
    {
      "cell_type": "code",
      "source": [
        "X_test_a.shape"
      ],
      "metadata": {
        "colab": {
          "base_uri": "https://localhost:8080/"
        },
        "id": "Pr4ZlZGzZVi8",
        "outputId": "8a6e803f-2d76-4a3f-c852-761b33ea292d"
      },
      "execution_count": 96,
      "outputs": [
        {
          "output_type": "execute_result",
          "data": {
            "text/plain": [
              "(84, 32, 32)"
            ]
          },
          "metadata": {},
          "execution_count": 96
        }
      ]
    },
    {
      "cell_type": "code",
      "metadata": {
        "_cell_guid": "1b380d90-c66f-42c9-ae97-5103e18a7c7a",
        "_uuid": "a26c04ac67f1c7919dede57707dd11f94d4590cb",
        "scrolled": true,
        "id": "4qtquGrr5vv5"
      },
      "source": [
        "X_test_all=X_test_a"
      ],
      "execution_count": 98,
      "outputs": []
    },
    {
      "cell_type": "code",
      "source": [],
      "metadata": {
        "id": "YjToj3DKZT86"
      },
      "execution_count": null,
      "outputs": []
    },
    {
      "cell_type": "code",
      "metadata": {
        "_uuid": "e8ef1f0166e80464b15fc7e23c4be85cc92129ed",
        "id": "KDZmeZZ85vv6",
        "outputId": "96c86028-c2fa-4b3f-9216-6dda6be9bde4",
        "colab": {
          "base_uri": "https://localhost:8080/"
        }
      },
      "source": [
        "X_tshow_all=X_test_all\n",
        "X_tshow_all.shape"
      ],
      "execution_count": 99,
      "outputs": [
        {
          "output_type": "execute_result",
          "data": {
            "text/plain": [
              "(84, 32, 32)"
            ]
          },
          "metadata": {},
          "execution_count": 99
        }
      ]
    },
    {
      "cell_type": "markdown",
      "metadata": {
        "_uuid": "050db40f873909fb7eaddc593742560b81bb104f",
        "id": "IEXF5bG85vv9"
      },
      "source": [
        "We will now convert image to 1 color channel"
      ]
    },
    {
      "cell_type": "code",
      "metadata": {
        "_uuid": "3a924ec72e3e201ab7fc7a7b14c4285625cc7788",
        "id": "7-h2lXrV5vv9"
      },
      "source": [
        "X_train_all = X_train_all.reshape(X_train_all.shape[0],32, 32,1).astype('float32')\n",
        "X_test_all = X_test_all.reshape(X_test_all.shape[0],32, 32,1).astype('float32')"
      ],
      "execution_count": 100,
      "outputs": []
    },
    {
      "cell_type": "code",
      "metadata": {
        "_uuid": "b6e46f3c07abdc22612a4996ea626f050a9b84d9",
        "id": "7hH5Aihy5vv_",
        "outputId": "390a0919-b4a1-4ab9-d973-647623e63e6b",
        "colab": {
          "base_uri": "https://localhost:8080/"
        }
      },
      "source": [
        "X_train_all.shape"
      ],
      "execution_count": 101,
      "outputs": [
        {
          "output_type": "execute_result",
          "data": {
            "text/plain": [
              "(300, 32, 32, 1)"
            ]
          },
          "metadata": {},
          "execution_count": 101
        }
      ]
    },
    {
      "cell_type": "markdown",
      "metadata": {
        "_uuid": "a75a4c52d3ebc246ac7ed01da04a47e4c0c6816e",
        "id": "CD80F_yk5vwC"
      },
      "source": [
        "**Normalize data**"
      ]
    },
    {
      "cell_type": "code",
      "metadata": {
        "_uuid": "f35d6a704e6d1015a2e65a5ca8f66e1aef8afb9b",
        "id": "HOJig0sU5vwD"
      },
      "source": [
        "X_train_all = X_train_all/255\n",
        "X_test_all=X_test_all/255"
      ],
      "execution_count": 102,
      "outputs": []
    },
    {
      "cell_type": "markdown",
      "metadata": {
        "_cell_guid": "d32f9092-0d61-4a31-940a-c47bd4a7ab70",
        "_uuid": "100fe511f70f708fe5a9a4a20a423d5cc5fc5d31",
        "id": "AcRNimMg5vwF"
      },
      "source": [
        "Next, we are going to randomly choose 80% of the training data and use it to train our neural network. The remaining 20% images are going to be our validation data."
      ]
    },
    {
      "cell_type": "code",
      "metadata": {
        "_cell_guid": "45550d4b-7b11-4277-b968-3cbc74161537",
        "_uuid": "ec1470e959cf087a27d9ca3d349f2f5dd8687528",
        "id": "nmBOV3uD5vwF"
      },
      "source": [
        "indices=list(range(len(X_train_all)))\n",
        "np.random.seed(42)\n",
        "np.random.shuffle(indices)\n",
        "\n",
        "ind=int(len(indices)*0.80)\n",
        "# train data\n",
        "X_train=X_train_all[indices[:ind]]\n",
        "y_train=y_train_all[indices[:ind]]\n",
        "# validation data\n",
        "X_val=X_train_all[indices[-(len(indices)-ind):]]\n",
        "y_val=y_train_all[indices[-(len(indices)-ind):]]"
      ],
      "execution_count": 119,
      "outputs": []
    },
    {
      "cell_type": "code",
      "source": [
        "X_train.shape"
      ],
      "metadata": {
        "colab": {
          "base_uri": "https://localhost:8080/"
        },
        "id": "xswjPid8dB7P",
        "outputId": "bbefd427-2a18-4597-de59-3aed2cc72774"
      },
      "execution_count": 120,
      "outputs": [
        {
          "output_type": "execute_result",
          "data": {
            "text/plain": [
              "(240, 32, 32, 1)"
            ]
          },
          "metadata": {},
          "execution_count": 120
        }
      ]
    },
    {
      "cell_type": "markdown",
      "metadata": {
        "_cell_guid": "32382aae-4756-457e-af68-5fd94603ddfb",
        "_uuid": "ba5d4e25fb97b4afcb84f85c8788da6244afadaf",
        "id": "qQFsPI3S5vwG"
      },
      "source": [
        "## Step 2: Design the model"
      ]
    },
    {
      "cell_type": "markdown",
      "metadata": {
        "_cell_guid": "8f3f9cf5-17d0-4b3a-b544-84bee00bf280",
        "_uuid": "52b0f9b0fabc92f87bcd85ca6e04c93df7343ae4",
        "id": "nJXUqiF05vwH"
      },
      "source": []
    },
    {
      "cell_type": "code",
      "metadata": {
        "_uuid": "9748e26b1a1cbda489a438723277d7a93abcb3c8",
        "id": "m5Ff27HH5vwH",
        "outputId": "744ed24e-c262-41bf-a0fe-3db01726d8f9",
        "colab": {
          "base_uri": "https://localhost:8080/"
        }
      },
      "source": [
        "def my_model(img_size=32,channels=1):\n",
        "    model = Sequential()\n",
        "    input_shape = (img_size,img_size,channels)\n",
        "    model.add(Conv2D(32, (5, 5), input_shape=input_shape,activation='relu', padding='same'))\n",
        "    model.add(Conv2D(32, (5, 5), activation='relu', padding='same'))\n",
        "    model.add(MaxPooling2D(pool_size=(2, 2)))\n",
        "\n",
        "    model.add(Conv2D(128, (3, 3),activation='relu',padding='same'))\n",
        "    model.add(Conv2D(128, (3, 3),activation='relu',padding='same'))\n",
        "\n",
        "    model.add(MaxPooling2D(pool_size=(2, 2)))\n",
        "\n",
        "    model.add(Conv2D(256, (3, 3),activation='relu',padding='same'))\n",
        "    model.add(Conv2D(256, (3, 3),activation='relu',padding='same'))\n",
        "    model.add(MaxPooling2D(pool_size=(2, 2)))\n",
        "\n",
        "    model.add(Flatten())\n",
        "    model.add(Dense(64))\n",
        "    model.add(Activation('relu'))\n",
        "    model.add(Dropout(0.2))\n",
        "    model.add(Dense(10))\n",
        "    model.add(Activation('softmax'))\n",
        "\n",
        "    model.compile(loss='sparse_categorical_crossentropy', metrics=['accuracy'],optimizer='adam')\n",
        "    # UNCOMMENT THIS TO VIEW THE ARCHITECTURE\n",
        "    #model.summary()\n",
        "\n",
        "    return model\n",
        "model=my_model()\n",
        "model.summary()"
      ],
      "execution_count": 118,
      "outputs": [
        {
          "output_type": "stream",
          "name": "stdout",
          "text": [
            "Model: \"sequential_4\"\n",
            "_________________________________________________________________\n",
            " Layer (type)                Output Shape              Param #   \n",
            "=================================================================\n",
            " conv2d_24 (Conv2D)          (None, 32, 32, 32)        832       \n",
            "                                                                 \n",
            " conv2d_25 (Conv2D)          (None, 32, 32, 32)        25632     \n",
            "                                                                 \n",
            " max_pooling2d_12 (MaxPoolin  (None, 16, 16, 32)       0         \n",
            " g2D)                                                            \n",
            "                                                                 \n",
            " conv2d_26 (Conv2D)          (None, 16, 16, 128)       36992     \n",
            "                                                                 \n",
            " conv2d_27 (Conv2D)          (None, 16, 16, 128)       147584    \n",
            "                                                                 \n",
            " max_pooling2d_13 (MaxPoolin  (None, 8, 8, 128)        0         \n",
            " g2D)                                                            \n",
            "                                                                 \n",
            " conv2d_28 (Conv2D)          (None, 8, 8, 256)         295168    \n",
            "                                                                 \n",
            " conv2d_29 (Conv2D)          (None, 8, 8, 256)         590080    \n",
            "                                                                 \n",
            " max_pooling2d_14 (MaxPoolin  (None, 4, 4, 256)        0         \n",
            " g2D)                                                            \n",
            "                                                                 \n",
            " flatten_4 (Flatten)         (None, 4096)              0         \n",
            "                                                                 \n",
            " dense_8 (Dense)             (None, 64)                262208    \n",
            "                                                                 \n",
            " activation_8 (Activation)   (None, 64)                0         \n",
            "                                                                 \n",
            " dropout_4 (Dropout)         (None, 64)                0         \n",
            "                                                                 \n",
            " dense_9 (Dense)             (None, 10)                650       \n",
            "                                                                 \n",
            " activation_9 (Activation)   (None, 10)                0         \n",
            "                                                                 \n",
            "=================================================================\n",
            "Total params: 1,359,146\n",
            "Trainable params: 1,359,146\n",
            "Non-trainable params: 0\n",
            "_________________________________________________________________\n"
          ]
        }
      ]
    },
    {
      "cell_type": "markdown",
      "metadata": {
        "_cell_guid": "ee9607d4-40d3-449d-948d-ca743a6f9d77",
        "_uuid": "0b0adac9af387df7adc0cf26954802305849396e",
        "id": "HKEyRXhG5vwJ"
      },
      "source": [
        "## Step 3: Train the model"
      ]
    },
    {
      "cell_type": "code",
      "source": [
        "from tensorflow.keras import backend as K"
      ],
      "metadata": {
        "id": "hRQ3Ew4BZ1I_"
      },
      "execution_count": 108,
      "outputs": []
    },
    {
      "cell_type": "code",
      "metadata": {
        "_cell_guid": "7b15bdc9-1794-4eda-9d48-f544be3e382c",
        "_uuid": "f220f61fae1fae8c1cfb2f843300b489937b0090",
        "scrolled": true,
        "id": "g-4HMu905vwJ",
        "outputId": "e62e65d3-3633-4fcd-e9b1-3d46b4a4b035",
        "colab": {
          "base_uri": "https://localhost:8080/"
        }
      },
      "source": [
        "path_model='model_filter.h5' # save model at this location after each epoch\n",
        "#K.tensorflow_backend.clear_session() # destroys the current graph and builds a new one\n",
        "model=my_model() # create the model\n",
        "K.set_value(model.optimizer.lr,1e-3) # set the learning rate\n",
        "# fit the model\n",
        "h=model.fit(x=X_train,\n",
        "            y=y_train,\n",
        "            batch_size=64,\n",
        "            epochs=100,\n",
        "            verbose=1,\n",
        "            validation_data=(X_val,y_val),\n",
        "            shuffle=True,\n",
        "            callbacks=[\n",
        "                ModelCheckpoint(filepath=path_model),\n",
        "            ]\n",
        "            )"
      ],
      "execution_count": 123,
      "outputs": [
        {
          "output_type": "stream",
          "name": "stdout",
          "text": [
            "Epoch 1/100\n",
            "4/4 [==============================] - 8s 2s/step - loss: 1.4639 - accuracy: 0.6708 - val_loss: 1.4905 - val_accuracy: 0.9000\n",
            "Epoch 2/100\n",
            "4/4 [==============================] - 6s 1s/step - loss: 0.8023 - accuracy: 0.8875 - val_loss: 0.7908 - val_accuracy: 0.9000\n",
            "Epoch 3/100\n",
            "4/4 [==============================] - 5s 1s/step - loss: 0.6637 - accuracy: 0.8750 - val_loss: 0.3549 - val_accuracy: 0.9000\n",
            "Epoch 4/100\n",
            "4/4 [==============================] - 6s 2s/step - loss: 0.4874 - accuracy: 0.9000 - val_loss: 0.3622 - val_accuracy: 0.9000\n",
            "Epoch 5/100\n",
            "4/4 [==============================] - 5s 1s/step - loss: 0.3952 - accuracy: 0.9000 - val_loss: 0.3875 - val_accuracy: 0.9000\n",
            "Epoch 6/100\n",
            "4/4 [==============================] - 6s 2s/step - loss: 0.4097 - accuracy: 0.8917 - val_loss: 0.3164 - val_accuracy: 0.9000\n",
            "Epoch 7/100\n",
            "4/4 [==============================] - 5s 1s/step - loss: 0.3900 - accuracy: 0.9000 - val_loss: 0.3408 - val_accuracy: 0.9000\n",
            "Epoch 8/100\n",
            "4/4 [==============================] - 5s 1s/step - loss: 0.3474 - accuracy: 0.8958 - val_loss: 0.3251 - val_accuracy: 0.9000\n",
            "Epoch 9/100\n",
            "4/4 [==============================] - 6s 1s/step - loss: 0.3547 - accuracy: 0.9000 - val_loss: 0.3198 - val_accuracy: 0.9000\n",
            "Epoch 10/100\n",
            "4/4 [==============================] - 5s 1s/step - loss: 0.3335 - accuracy: 0.9000 - val_loss: 0.3250 - val_accuracy: 0.9000\n",
            "Epoch 11/100\n",
            "4/4 [==============================] - 6s 2s/step - loss: 0.3413 - accuracy: 0.9000 - val_loss: 0.3126 - val_accuracy: 0.9000\n",
            "Epoch 12/100\n",
            "4/4 [==============================] - 5s 1s/step - loss: 0.3594 - accuracy: 0.9000 - val_loss: 0.3248 - val_accuracy: 0.9000\n",
            "Epoch 13/100\n",
            "4/4 [==============================] - 6s 2s/step - loss: 0.3546 - accuracy: 0.9000 - val_loss: 0.3117 - val_accuracy: 0.9000\n",
            "Epoch 14/100\n",
            "4/4 [==============================] - 5s 1s/step - loss: 0.3387 - accuracy: 0.9000 - val_loss: 0.3239 - val_accuracy: 0.9000\n",
            "Epoch 15/100\n",
            "4/4 [==============================] - 5s 1s/step - loss: 0.3618 - accuracy: 0.9000 - val_loss: 0.3154 - val_accuracy: 0.9000\n",
            "Epoch 16/100\n",
            "4/4 [==============================] - 6s 1s/step - loss: 0.3378 - accuracy: 0.9000 - val_loss: 0.3156 - val_accuracy: 0.9000\n",
            "Epoch 17/100\n",
            "4/4 [==============================] - 5s 1s/step - loss: 0.3287 - accuracy: 0.9000 - val_loss: 0.3201 - val_accuracy: 0.9000\n",
            "Epoch 18/100\n",
            "4/4 [==============================] - 6s 2s/step - loss: 0.3447 - accuracy: 0.9000 - val_loss: 0.3086 - val_accuracy: 0.9000\n",
            "Epoch 19/100\n",
            "4/4 [==============================] - 5s 1s/step - loss: 0.3337 - accuracy: 0.9000 - val_loss: 0.3059 - val_accuracy: 0.9000\n",
            "Epoch 20/100\n",
            "4/4 [==============================] - 6s 2s/step - loss: 0.3376 - accuracy: 0.9000 - val_loss: 0.3121 - val_accuracy: 0.9000\n",
            "Epoch 21/100\n",
            "4/4 [==============================] - 5s 1s/step - loss: 0.3554 - accuracy: 0.9000 - val_loss: 0.3018 - val_accuracy: 0.9000\n",
            "Epoch 22/100\n",
            "4/4 [==============================] - 5s 1s/step - loss: 0.3462 - accuracy: 0.9000 - val_loss: 0.3293 - val_accuracy: 0.9000\n",
            "Epoch 23/100\n",
            "4/4 [==============================] - 6s 1s/step - loss: 0.3424 - accuracy: 0.9000 - val_loss: 0.3110 - val_accuracy: 0.9000\n",
            "Epoch 24/100\n",
            "4/4 [==============================] - 5s 1s/step - loss: 0.3470 - accuracy: 0.9000 - val_loss: 0.3020 - val_accuracy: 0.9000\n",
            "Epoch 25/100\n",
            "4/4 [==============================] - 6s 2s/step - loss: 0.3184 - accuracy: 0.9000 - val_loss: 0.3015 - val_accuracy: 0.9000\n",
            "Epoch 26/100\n",
            "4/4 [==============================] - 5s 1s/step - loss: 0.3271 - accuracy: 0.9000 - val_loss: 0.2936 - val_accuracy: 0.9000\n",
            "Epoch 27/100\n",
            "4/4 [==============================] - 6s 2s/step - loss: 0.3338 - accuracy: 0.9000 - val_loss: 0.2939 - val_accuracy: 0.9000\n",
            "Epoch 28/100\n",
            "4/4 [==============================] - 5s 1s/step - loss: 0.3019 - accuracy: 0.9000 - val_loss: 0.2852 - val_accuracy: 0.9000\n",
            "Epoch 29/100\n",
            "4/4 [==============================] - 5s 1s/step - loss: 0.2904 - accuracy: 0.9000 - val_loss: 0.2817 - val_accuracy: 0.9000\n",
            "Epoch 30/100\n",
            "4/4 [==============================] - 6s 1s/step - loss: 0.2958 - accuracy: 0.9000 - val_loss: 0.2767 - val_accuracy: 0.9000\n",
            "Epoch 31/100\n",
            "4/4 [==============================] - 5s 1s/step - loss: 0.2996 - accuracy: 0.9000 - val_loss: 0.2768 - val_accuracy: 0.9000\n",
            "Epoch 32/100\n",
            "4/4 [==============================] - 6s 2s/step - loss: 0.2972 - accuracy: 0.9000 - val_loss: 0.2847 - val_accuracy: 0.9000\n",
            "Epoch 33/100\n",
            "4/4 [==============================] - 5s 1s/step - loss: 0.3297 - accuracy: 0.9000 - val_loss: 0.2884 - val_accuracy: 0.9000\n",
            "Epoch 34/100\n",
            "4/4 [==============================] - 6s 2s/step - loss: 0.3018 - accuracy: 0.9000 - val_loss: 0.3178 - val_accuracy: 0.9000\n",
            "Epoch 35/100\n",
            "4/4 [==============================] - 5s 1s/step - loss: 0.2775 - accuracy: 0.9042 - val_loss: 0.3614 - val_accuracy: 0.9000\n",
            "Epoch 36/100\n",
            "4/4 [==============================] - 5s 1s/step - loss: 0.2700 - accuracy: 0.9000 - val_loss: 0.3064 - val_accuracy: 0.8833\n",
            "Epoch 37/100\n",
            "4/4 [==============================] - 6s 2s/step - loss: 0.2437 - accuracy: 0.9083 - val_loss: 0.3346 - val_accuracy: 0.8833\n",
            "Epoch 38/100\n",
            "4/4 [==============================] - 5s 1s/step - loss: 0.2192 - accuracy: 0.9125 - val_loss: 0.3710 - val_accuracy: 0.8833\n",
            "Epoch 39/100\n",
            "4/4 [==============================] - 6s 2s/step - loss: 0.1600 - accuracy: 0.9375 - val_loss: 0.4610 - val_accuracy: 0.8500\n",
            "Epoch 40/100\n",
            "4/4 [==============================] - 5s 1s/step - loss: 0.1385 - accuracy: 0.9375 - val_loss: 0.5252 - val_accuracy: 0.8500\n",
            "Epoch 41/100\n",
            "4/4 [==============================] - 5s 1s/step - loss: 0.0990 - accuracy: 0.9625 - val_loss: 0.6679 - val_accuracy: 0.8333\n",
            "Epoch 42/100\n",
            "4/4 [==============================] - 6s 1s/step - loss: 0.0750 - accuracy: 0.9708 - val_loss: 1.2454 - val_accuracy: 0.8667\n",
            "Epoch 43/100\n",
            "4/4 [==============================] - 5s 1s/step - loss: 0.1957 - accuracy: 0.9208 - val_loss: 0.5782 - val_accuracy: 0.8333\n",
            "Epoch 44/100\n",
            "4/4 [==============================] - 6s 2s/step - loss: 0.1382 - accuracy: 0.9417 - val_loss: 0.7462 - val_accuracy: 0.8667\n",
            "Epoch 45/100\n",
            "4/4 [==============================] - 5s 1s/step - loss: 0.1111 - accuracy: 0.9750 - val_loss: 0.7070 - val_accuracy: 0.8167\n",
            "Epoch 46/100\n",
            "4/4 [==============================] - 6s 2s/step - loss: 0.0541 - accuracy: 0.9875 - val_loss: 1.0470 - val_accuracy: 0.8333\n",
            "Epoch 47/100\n",
            "4/4 [==============================] - 5s 1s/step - loss: 0.0491 - accuracy: 0.9833 - val_loss: 1.1223 - val_accuracy: 0.8167\n",
            "Epoch 48/100\n",
            "4/4 [==============================] - 5s 1s/step - loss: 0.0488 - accuracy: 0.9875 - val_loss: 1.4256 - val_accuracy: 0.8667\n",
            "Epoch 49/100\n",
            "4/4 [==============================] - 6s 1s/step - loss: 0.0253 - accuracy: 0.9958 - val_loss: 1.4649 - val_accuracy: 0.8333\n",
            "Epoch 50/100\n",
            "4/4 [==============================] - 5s 1s/step - loss: 0.0201 - accuracy: 0.9958 - val_loss: 1.5645 - val_accuracy: 0.8667\n",
            "Epoch 51/100\n",
            "4/4 [==============================] - 6s 2s/step - loss: 0.0097 - accuracy: 0.9958 - val_loss: 1.7921 - val_accuracy: 0.8500\n",
            "Epoch 52/100\n",
            "4/4 [==============================] - 5s 1s/step - loss: 0.0125 - accuracy: 0.9958 - val_loss: 1.9021 - val_accuracy: 0.8500\n",
            "Epoch 53/100\n",
            "4/4 [==============================] - 6s 2s/step - loss: 0.0036 - accuracy: 1.0000 - val_loss: 1.9454 - val_accuracy: 0.8500\n",
            "Epoch 54/100\n",
            "4/4 [==============================] - 5s 1s/step - loss: 9.9285e-04 - accuracy: 1.0000 - val_loss: 2.0000 - val_accuracy: 0.8333\n",
            "Epoch 55/100\n",
            "4/4 [==============================] - 5s 1s/step - loss: 0.0025 - accuracy: 1.0000 - val_loss: 2.0948 - val_accuracy: 0.8333\n",
            "Epoch 56/100\n",
            "4/4 [==============================] - 6s 1s/step - loss: 0.0012 - accuracy: 1.0000 - val_loss: 2.2094 - val_accuracy: 0.8333\n",
            "Epoch 57/100\n",
            "4/4 [==============================] - 5s 1s/step - loss: 7.4806e-04 - accuracy: 1.0000 - val_loss: 2.3134 - val_accuracy: 0.8333\n",
            "Epoch 58/100\n",
            "4/4 [==============================] - 6s 2s/step - loss: 0.0044 - accuracy: 1.0000 - val_loss: 2.5779 - val_accuracy: 0.8500\n",
            "Epoch 59/100\n",
            "4/4 [==============================] - 5s 1s/step - loss: 0.0012 - accuracy: 1.0000 - val_loss: 2.7791 - val_accuracy: 0.8667\n",
            "Epoch 60/100\n",
            "4/4 [==============================] - 6s 2s/step - loss: 0.0056 - accuracy: 0.9958 - val_loss: 2.4053 - val_accuracy: 0.8333\n",
            "Epoch 61/100\n",
            "4/4 [==============================] - 5s 1s/step - loss: 0.0010 - accuracy: 1.0000 - val_loss: 2.3004 - val_accuracy: 0.8000\n",
            "Epoch 62/100\n",
            "4/4 [==============================] - 5s 1s/step - loss: 0.0020 - accuracy: 1.0000 - val_loss: 2.5083 - val_accuracy: 0.8333\n",
            "Epoch 63/100\n",
            "4/4 [==============================] - 6s 1s/step - loss: 8.8272e-04 - accuracy: 1.0000 - val_loss: 2.7529 - val_accuracy: 0.8500\n",
            "Epoch 64/100\n",
            "4/4 [==============================] - 5s 1s/step - loss: 0.0017 - accuracy: 1.0000 - val_loss: 2.7539 - val_accuracy: 0.8500\n",
            "Epoch 65/100\n",
            "4/4 [==============================] - 6s 2s/step - loss: 6.8170e-04 - accuracy: 1.0000 - val_loss: 2.7225 - val_accuracy: 0.8500\n",
            "Epoch 66/100\n",
            "4/4 [==============================] - 5s 1s/step - loss: 1.4798e-04 - accuracy: 1.0000 - val_loss: 2.7194 - val_accuracy: 0.8500\n",
            "Epoch 67/100\n",
            "4/4 [==============================] - 6s 2s/step - loss: 0.0017 - accuracy: 1.0000 - val_loss: 2.7984 - val_accuracy: 0.8500\n",
            "Epoch 68/100\n",
            "4/4 [==============================] - 5s 1s/step - loss: 0.0012 - accuracy: 1.0000 - val_loss: 2.9446 - val_accuracy: 0.8500\n",
            "Epoch 69/100\n",
            "4/4 [==============================] - 5s 1s/step - loss: 4.6088e-04 - accuracy: 1.0000 - val_loss: 3.1132 - val_accuracy: 0.8500\n",
            "Epoch 70/100\n",
            "4/4 [==============================] - 6s 1s/step - loss: 5.5377e-04 - accuracy: 1.0000 - val_loss: 3.2170 - val_accuracy: 0.8500\n",
            "Epoch 71/100\n",
            "4/4 [==============================] - 5s 1s/step - loss: 0.0013 - accuracy: 1.0000 - val_loss: 3.3003 - val_accuracy: 0.8500\n",
            "Epoch 72/100\n",
            "4/4 [==============================] - 6s 2s/step - loss: 1.7041e-04 - accuracy: 1.0000 - val_loss: 3.3040 - val_accuracy: 0.8500\n",
            "Epoch 73/100\n",
            "4/4 [==============================] - 5s 1s/step - loss: 7.4451e-04 - accuracy: 1.0000 - val_loss: 3.3244 - val_accuracy: 0.8500\n",
            "Epoch 74/100\n",
            "4/4 [==============================] - 6s 2s/step - loss: 7.2460e-04 - accuracy: 1.0000 - val_loss: 3.3861 - val_accuracy: 0.8500\n",
            "Epoch 75/100\n",
            "4/4 [==============================] - 5s 1s/step - loss: 7.0899e-04 - accuracy: 1.0000 - val_loss: 3.4229 - val_accuracy: 0.8500\n",
            "Epoch 76/100\n",
            "4/4 [==============================] - 5s 1s/step - loss: 1.6180e-04 - accuracy: 1.0000 - val_loss: 3.4592 - val_accuracy: 0.8500\n",
            "Epoch 77/100\n",
            "4/4 [==============================] - 6s 1s/step - loss: 2.4697e-04 - accuracy: 1.0000 - val_loss: 3.4634 - val_accuracy: 0.8500\n",
            "Epoch 78/100\n",
            "4/4 [==============================] - 5s 1s/step - loss: 3.2241e-05 - accuracy: 1.0000 - val_loss: 3.4629 - val_accuracy: 0.8500\n",
            "Epoch 79/100\n",
            "4/4 [==============================] - 6s 2s/step - loss: 1.3550e-04 - accuracy: 1.0000 - val_loss: 3.4776 - val_accuracy: 0.8500\n",
            "Epoch 80/100\n",
            "4/4 [==============================] - 5s 1s/step - loss: 2.9890e-05 - accuracy: 1.0000 - val_loss: 3.4943 - val_accuracy: 0.8500\n",
            "Epoch 81/100\n",
            "4/4 [==============================] - 6s 2s/step - loss: 8.6032e-05 - accuracy: 1.0000 - val_loss: 3.5126 - val_accuracy: 0.8500\n",
            "Epoch 82/100\n",
            "4/4 [==============================] - 5s 1s/step - loss: 2.2241e-05 - accuracy: 1.0000 - val_loss: 3.5278 - val_accuracy: 0.8500\n",
            "Epoch 83/100\n",
            "4/4 [==============================] - 5s 1s/step - loss: 5.9333e-05 - accuracy: 1.0000 - val_loss: 3.5427 - val_accuracy: 0.8500\n",
            "Epoch 84/100\n",
            "4/4 [==============================] - 6s 1s/step - loss: 1.1129e-04 - accuracy: 1.0000 - val_loss: 3.5613 - val_accuracy: 0.8500\n",
            "Epoch 85/100\n",
            "4/4 [==============================] - 5s 1s/step - loss: 2.4927e-04 - accuracy: 1.0000 - val_loss: 3.5893 - val_accuracy: 0.8333\n",
            "Epoch 86/100\n",
            "4/4 [==============================] - 6s 2s/step - loss: 6.6537e-06 - accuracy: 1.0000 - val_loss: 3.6094 - val_accuracy: 0.8333\n",
            "Epoch 87/100\n",
            "4/4 [==============================] - 5s 1s/step - loss: 7.9101e-05 - accuracy: 1.0000 - val_loss: 3.6283 - val_accuracy: 0.8333\n",
            "Epoch 88/100\n",
            "4/4 [==============================] - 6s 2s/step - loss: 9.7316e-06 - accuracy: 1.0000 - val_loss: 3.6444 - val_accuracy: 0.8333\n",
            "Epoch 89/100\n",
            "4/4 [==============================] - 5s 1s/step - loss: 9.0954e-06 - accuracy: 1.0000 - val_loss: 3.6566 - val_accuracy: 0.8333\n",
            "Epoch 90/100\n",
            "4/4 [==============================] - 5s 1s/step - loss: 6.6260e-05 - accuracy: 1.0000 - val_loss: 3.6642 - val_accuracy: 0.8333\n",
            "Epoch 91/100\n",
            "4/4 [==============================] - 6s 2s/step - loss: 0.0013 - accuracy: 1.0000 - val_loss: 3.5145 - val_accuracy: 0.8333\n",
            "Epoch 92/100\n",
            "4/4 [==============================] - 5s 1s/step - loss: 9.9602e-04 - accuracy: 1.0000 - val_loss: 3.3241 - val_accuracy: 0.8333\n",
            "Epoch 93/100\n",
            "4/4 [==============================] - 6s 2s/step - loss: 5.2708e-05 - accuracy: 1.0000 - val_loss: 3.2420 - val_accuracy: 0.8333\n",
            "Epoch 94/100\n",
            "4/4 [==============================] - 5s 1s/step - loss: 6.2853e-05 - accuracy: 1.0000 - val_loss: 3.1976 - val_accuracy: 0.8333\n",
            "Epoch 95/100\n",
            "4/4 [==============================] - 6s 2s/step - loss: 5.5197e-05 - accuracy: 1.0000 - val_loss: 3.1787 - val_accuracy: 0.8333\n",
            "Epoch 96/100\n",
            "4/4 [==============================] - 5s 1s/step - loss: 2.8762e-04 - accuracy: 1.0000 - val_loss: 3.1854 - val_accuracy: 0.8333\n",
            "Epoch 97/100\n",
            "4/4 [==============================] - 5s 1s/step - loss: 1.3253e-04 - accuracy: 1.0000 - val_loss: 3.1917 - val_accuracy: 0.8333\n",
            "Epoch 98/100\n",
            "4/4 [==============================] - 6s 2s/step - loss: 3.4844e-04 - accuracy: 1.0000 - val_loss: 3.2366 - val_accuracy: 0.8333\n",
            "Epoch 99/100\n",
            "4/4 [==============================] - 5s 1s/step - loss: 6.9963e-04 - accuracy: 1.0000 - val_loss: 3.3198 - val_accuracy: 0.8333\n",
            "Epoch 100/100\n",
            "4/4 [==============================] - 6s 2s/step - loss: 2.9958e-04 - accuracy: 1.0000 - val_loss: 3.3717 - val_accuracy: 0.8500\n"
          ]
        }
      ]
    },
    {
      "cell_type": "markdown",
      "metadata": {
        "_cell_guid": "1862ff7c-a071-4015-bb48-f9670a3112db",
        "_uuid": "d89525da13f845e3417890b968fb5d7753f4e54f",
        "id": "Z61Vbph95vwM"
      },
      "source": [
        "# After 30 epochs we have a decent training and valiadation accuracy on dataset."
      ]
    },
    {
      "cell_type": "markdown",
      "metadata": {
        "_cell_guid": "85658a4d-697d-46ef-91cc-e87a8c4c2f89",
        "_uuid": "97b8d77f4c3a692f939ffa94a466dfd257834d5a",
        "id": "et0fg71f5vwM"
      },
      "source": [
        "## Result Analysis"
      ]
    },
    {
      "cell_type": "markdown",
      "metadata": {
        "_cell_guid": "6b4b108e-4a11-489c-b068-55fecad1ea67",
        "_uuid": "8913f144fc15314e1a98cead1048635bfd758fd0",
        "id": "_apnLg345vwM"
      },
      "source": [
        "Let's observe the images by our model."
      ]
    },
    {
      "cell_type": "code",
      "metadata": {
        "_cell_guid": "383c8574-c022-4a52-a3d9-f6c7edabc44d",
        "_uuid": "0b019de716cc8c0ab602d2600b590d83e310fb1f",
        "id": "2EDsSP3H5vwN",
        "colab": {
          "base_uri": "https://localhost:8080/"
        },
        "outputId": "c50609d8-bdb1-4d6a-b333-c1ca8c232092"
      },
      "source": [
        "predictions_prob=model.predict(X_test_all) # get predictions for all the test data"
      ],
      "execution_count": 124,
      "outputs": [
        {
          "output_type": "stream",
          "name": "stdout",
          "text": [
            "3/3 [==============================] - 1s 129ms/step\n"
          ]
        }
      ]
    },
    {
      "cell_type": "code",
      "metadata": {
        "_cell_guid": "d0993d24-b26d-4934-84a0-ac145f4e8594",
        "_uuid": "4822a937ea504052db7b326595866e7a276e0a2a",
        "id": "WWcx9YXO5vwO"
      },
      "source": [
        "n_sample=25\n",
        "np.random.seed(42)\n",
        "ind=np.random.randint(0,len(X_test_all), size=n_sample)"
      ],
      "execution_count": 155,
      "outputs": []
    },
    {
      "cell_type": "code",
      "source": [
        "ind"
      ],
      "metadata": {
        "colab": {
          "base_uri": "https://localhost:8080/"
        },
        "id": "tMSWt40fmoT8",
        "outputId": "b6bff369-aa55-48f9-a79e-1dbe55b0f2d5"
      },
      "execution_count": 156,
      "outputs": [
        {
          "output_type": "execute_result",
          "data": {
            "text/plain": [
              "array([51, 14, 71, 60, 20, 82, 74, 74, 23,  2, 21, 52,  1, 29, 37,  1, 63,\n",
              "       59, 20, 32, 75, 57, 21, 48, 58])"
            ]
          },
          "metadata": {},
          "execution_count": 156
        }
      ]
    },
    {
      "cell_type": "code",
      "metadata": {
        "_cell_guid": "9f4260e9-e5e6-4b5e-8565-d5bed1bbc359",
        "_uuid": "2b6ec0f33275de9e2b2a4b0bd12b202f8d067551",
        "id": "3QL41zbG5vwP",
        "outputId": "8c0e10f7-2e1b-4692-aff2-6651760de071",
        "colab": {
          "base_uri": "https://localhost:8080/",
          "height": 518
        }
      },
      "source": [
        "imshow_group(X=X_tshow_all[ind],y=None,y_pred=predictions_prob[ind], phase='prediction')"
      ],
      "execution_count": 157,
      "outputs": [
        {
          "output_type": "display_data",
          "data": {
            "text/plain": [
              "<Figure size 2000x900 with 25 Axes>"
            ],
            "image/png": "[encoded data removed]"
          },
          "metadata": {}
        }
      ]
    },
    {
      "cell_type": "code",
      "metadata": {
        "_cell_guid": "5ac67cd3-11ac-4bb1-9d7a-f60417f45849",
        "_uuid": "6653b48712048170c2f12148c6dfe4988660c02f",
        "id": "37Li23it5vwQ"
      },
      "source": [
        "labels=[np.argmax(pred) for pred in predictions_prob]"
      ],
      "execution_count": 138,
      "outputs": []
    },
    {
      "cell_type": "code",
      "metadata": {
        "_uuid": "2dd35d48dc06d1532d165756677e990c1fe8eaa3",
        "id": "wS0NiOwO5vwR"
      },
      "source": [
        "keys=[get_key(path) for path in paths_test_all ]"
      ],
      "execution_count": 139,
      "outputs": []
    },
    {
      "cell_type": "code",
      "metadata": {
        "_uuid": "8fbcfb14dbfe0de631f40ec36bb3e007fdd67ea9",
        "id": "hLnSIOGX5vwT"
      },
      "source": [
        "create_submission(predictions=labels,keys=keys,path='submission7.csv')"
      ],
      "execution_count": 142,
      "outputs": []
    },
    {
      "cell_type": "code",
      "metadata": {
        "_uuid": "886f58583f4c1e063e7dd2f040a3bef4247f65f9",
        "id": "bB3Co9KP5vwU",
        "outputId": "101eab0c-9ba0-4b79-95e1-d86adc341882",
        "colab": {
          "base_uri": "https://localhost:8080/",
          "height": 423
        }
      },
      "source": [
        "prediction = pd.read_csv('submission7.csv')\n",
        "prediction.head(100)"
      ],
      "execution_count": 143,
      "outputs": [
        {
          "output_type": "execute_result",
          "data": {
            "text/plain": [
              "           key  label\n",
              "0   a00016.png      0\n",
              "1   a00082.png      0\n",
              "2   a00075.png      0\n",
              "3   a00063.png      0\n",
              "4   a00027.png      1\n",
              "..         ...    ...\n",
              "79  a00065.png      0\n",
              "80  a00024.png      0\n",
              "81  a00038.png      0\n",
              "82  a00072.png      0\n",
              "83  a00057.png      0\n",
              "\n",
              "[84 rows x 2 columns]"
            ],
            "text/html": [
              "\n",
              "  <div id=\"df-934f0b5f-85d7-4da0-9969-4c45bb365a67\">\n",
              "    <div class=\"colab-df-container\">\n",
              "      <div>\n",
              "<style scoped>\n",
              "    .dataframe tbody tr th:only-of-type {\n",
              "        vertical-align: middle;\n",
              "    }\n",
              "\n",
              "    .dataframe tbody tr th {\n",
              "        vertical-align: top;\n",
              "    }\n",
              "\n",
              "    .dataframe thead th {\n",
              "        text-align: right;\n",
              "    }\n",
              "</style>\n",
              "<table border=\"1\" class=\"dataframe\">\n",
              "  <thead>\n",
              "    <tr style=\"text-align: right;\">\n",
              "      <th></th>\n",
              "      <th>key</th>\n",
              "      <th>label</th>\n",
              "    </tr>\n",
              "  </thead>\n",
              "  <tbody>\n",
              "    <tr>\n",
              "      <th>0</th>\n",
              "      <td>a00016.png</td>\n",
              "      <td>0</td>\n",
              "    </tr>\n",
              "    <tr>\n",
              "      <th>1</th>\n",
              "      <td>a00082.png</td>\n",
              "      <td>0</td>\n",
              "    </tr>\n",
              "    <tr>\n",
              "      <th>2</th>\n",
              "      <td>a00075.png</td>\n",
              "      <td>0</td>\n",
              "    </tr>\n",
              "    <tr>\n",
              "      <th>3</th>\n",
              "      <td>a00063.png</td>\n",
              "      <td>0</td>\n",
              "    </tr>\n",
              "    <tr>\n",
              "      <th>4</th>\n",
              "      <td>a00027.png</td>\n",
              "      <td>1</td>\n",
              "    </tr>\n",
              "    <tr>\n",
              "      <th>...</th>\n",
              "      <td>...</td>\n",
              "      <td>...</td>\n",
              "    </tr>\n",
              "    <tr>\n",
              "      <th>79</th>\n",
              "      <td>a00065.png</td>\n",
              "      <td>0</td>\n",
              "    </tr>\n",
              "    <tr>\n",
              "      <th>80</th>\n",
              "      <td>a00024.png</td>\n",
              "      <td>0</td>\n",
              "    </tr>\n",
              "    <tr>\n",
              "      <th>81</th>\n",
              "      <td>a00038.png</td>\n",
              "      <td>0</td>\n",
              "    </tr>\n",
              "    <tr>\n",
              "      <th>82</th>\n",
              "      <td>a00072.png</td>\n",
              "      <td>0</td>\n",
              "    </tr>\n",
              "    <tr>\n",
              "      <th>83</th>\n",
              "      <td>a00057.png</td>\n",
              "      <td>0</td>\n",
              "    </tr>\n",
              "  </tbody>\n",
              "</table>\n",
              "<p>84 rows × 2 columns</p>\n",
              "</div>\n",
              "      <button class=\"colab-df-convert\" onclick=\"convertToInteractive('df-934f0b5f-85d7-4da0-9969-4c45bb365a67')\"\n",
              "              title=\"Convert this dataframe to an interactive table.\"\n",
              "              style=\"display:none;\">\n",
              "        \n",
              "  <svg xmlns=\"http://www.w3.org/2000/svg\" height=\"24px\"viewBox=\"0 0 24 24\"\n",
              "       width=\"24px\">\n",
              "    <path d=\"M0 0h24v24H0V0z\" fill=\"none\"/>\n",
              "    <path d=\"M18.56 5.44l.94 2.06.94-2.06 2.06-.94-2.06-.94-.94-2.06-.94 2.06-2.06.94zm-11 1L8.5 8.5l.94-2.06 2.06-.94-2.06-.94L8.5 2.5l-.94 2.06-2.06.94zm10 10l.94 2.06.94-2.06 2.06-.94-2.06-.94-.94-2.06-.94 2.06-2.06.94z\"/><path d=\"M17.41 7.96l-1.37-1.37c-.4-.4-.92-.59-1.43-.59-.52 0-1.04.2-1.43.59L10.3 9.45l-7.72 7.72c-.78.78-.78 2.05 0 2.83L4 21.41c.39.39.9.59 1.41.59.51 0 1.02-.2 1.41-.59l7.78-7.78 2.81-2.81c.8-.78.8-2.07 0-2.86zM5.41 20L4 18.59l7.72-7.72 1.47 1.35L5.41 20z\"/>\n",
              "  </svg>\n",
              "      </button>\n",
              "      \n",
              "  <style>\n",
              "    .colab-df-container {\n",
              "      display:flex;\n",
              "      flex-wrap:wrap;\n",
              "      gap: 12px;\n",
              "    }\n",
              "\n",
              "    .colab-df-convert {\n",
              "      background-color: #E8F0FE;\n",
              "      border: none;\n",
              "      border-radius: 50%;\n",
              "      cursor: pointer;\n",
              "      display: none;\n",
              "      fill: #1967D2;\n",
              "      height: 32px;\n",
              "      padding: 0 0 0 0;\n",
              "      width: 32px;\n",
              "    }\n",
              "\n",
              "    .colab-df-convert:hover {\n",
              "      background-color: #E2EBFA;\n",
              "      box-shadow: 0px 1px 2px rgba(60, 64, 67, 0.3), 0px 1px 3px 1px rgba(60, 64, 67, 0.15);\n",
              "      fill: #174EA6;\n",
              "    }\n",
              "\n",
              "    [theme=dark] .colab-df-convert {\n",
              "      background-color: #3B4455;\n",
              "      fill: #D2E3FC;\n",
              "    }\n",
              "\n",
              "    [theme=dark] .colab-df-convert:hover {\n",
              "      background-color: #434B5C;\n",
              "      box-shadow: 0px 1px 3px 1px rgba(0, 0, 0, 0.15);\n",
              "      filter: drop-shadow(0px 1px 2px rgba(0, 0, 0, 0.3));\n",
              "      fill: #FFFFFF;\n",
              "    }\n",
              "  </style>\n",
              "\n",
              "      <script>\n",
              "        const buttonEl =\n",
              "          document.querySelector('#df-934f0b5f-85d7-4da0-9969-4c45bb365a67 button.colab-df-convert');\n",
              "        buttonEl.style.display =\n",
              "          google.colab.kernel.accessAllowed ? 'block' : 'none';\n",
              "\n",
              "        async function convertToInteractive(key) {\n",
              "          const element = document.querySelector('#df-934f0b5f-85d7-4da0-9969-4c45bb365a67');\n",
              "          const dataTable =\n",
              "            await google.colab.kernel.invokeFunction('convertToInteractive',\n",
              "                                                     [key], {});\n",
              "          if (!dataTable) return;\n",
              "\n",
              "          const docLinkHtml = 'Like what you see? Visit the ' +\n",
              "            '<a target=\"_blank\" href=https://colab.research.google.com/notebooks/data_table.ipynb>data table notebook</a>'\n",
              "            + ' to learn more about interactive tables.';\n",
              "          element.innerHTML = '';\n",
              "          dataTable['output_type'] = 'display_data';\n",
              "          await google.colab.output.renderOutput(dataTable, element);\n",
              "          const docLink = document.createElement('div');\n",
              "          docLink.innerHTML = docLinkHtml;\n",
              "          element.appendChild(docLink);\n",
              "        }\n",
              "      </script>\n",
              "    </div>\n",
              "  </div>\n",
              "  "
            ]
          },
          "metadata": {},
          "execution_count": 143
        }
      ]
    },
    {
      "cell_type": "code",
      "metadata": {
        "_uuid": "51e7528de57416eff84e8fa131124d138dc99ea4",
        "id": "FIC6MSaI5vwV"
      },
      "source": [
        "#df=pd.read_csv(path_label_train_c,na_filter=False)\n",
        "#df.head(100)"
      ],
      "execution_count": null,
      "outputs": []
    },
    {
      "cell_type": "code",
      "metadata": {
        "_uuid": "f1d1ee1fb15f6bba61fd94d4492524fbb32967a0",
        "id": "NVkc6BOv5vwW"
      },
      "source": [
        "#y=np.array(df.iloc[:,3:4])\n",
        "#print(y)\n"
      ],
      "execution_count": null,
      "outputs": []
    },
    {
      "cell_type": "code",
      "metadata": {
        "_uuid": "c68432b931be3671f4c7b501ac1ff4339bbaa745",
        "id": "wO3t5jF_5vwY"
      },
      "source": [],
      "execution_count": null,
      "outputs": []
    },
    {
      "cell_type": "code",
      "metadata": {
        "_uuid": "2f3cef391776026ced9f273990934402ce275c92",
        "id": "ZdSrUJ905vwZ"
      },
      "source": [],
      "execution_count": null,
      "outputs": []
    }
  ]
}