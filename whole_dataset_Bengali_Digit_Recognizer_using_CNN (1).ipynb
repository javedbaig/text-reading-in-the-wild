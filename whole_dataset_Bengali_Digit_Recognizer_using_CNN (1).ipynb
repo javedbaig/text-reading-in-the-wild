{
  "nbformat": 4,
  "nbformat_minor": 0,
  "metadata": {
    "colab": {
      "provenance": [],
      "gpuType": "T4"
    },
    "language_info": {
      "codemirror_mode": {
        "name": "ipython",
        "version": 3
      },
      "file_extension": ".py",
      "mimetype": "text/x-python",
      "name": "python",
      "nbconvert_exporter": "python",
      "pygments_lexer": "ipython3",
      "version": "3.6.5"
    },
    "kernelspec": {
      "display_name": "Python 3",
      "name": "python3"
    },
    "accelerator": "GPU"
  },
  "cells": [
    {
      "cell_type": "code",
      "source": [
        "# SOTA Link - https://github.com/nasim-aust/Bangla-Handwritten-Digit-Recognition-using-CNN"
      ],
      "metadata": {
        "id": "5uXg0-65Bqk3"
      },
      "execution_count": null,
      "outputs": []
    },
    {
      "cell_type": "markdown",
      "metadata": {
        "_cell_guid": "d93e43c9-8a48-41c7-93f2-1dbeec38f80e",
        "_uuid": "b2538ad6607dc541ad42195df42b3c70ecdd59a3",
        "id": "asmJRuOT5vvY"
      },
      "source": [
        "# Bangla Digit Recognizer"
      ]
    },
    {
      "cell_type": "markdown",
      "source": [
        "## Loading the dataset"
      ],
      "metadata": {
        "id": "7yZXYPYMBBPq"
      }
    },
    {
      "cell_type": "code",
      "source": [
        "# Link for NumtaDb dataset - https://bengali.ai/datasets/"
      ],
      "metadata": {
        "id": "eUp4tdLPAyjj"
      },
      "execution_count": null,
      "outputs": []
    },
    {
      "cell_type": "code",
      "source": [
        "# https://drive.google.com/file/d/1p-P5JaHM-6gaVk6soB-JV7l5l5SUoDaR/view?usp=sharing"
      ],
      "metadata": {
        "id": "A6coUHARDCaQ"
      },
      "execution_count": null,
      "outputs": []
    },
    {
      "cell_type": "code",
      "source": [
        "!gdown 1p-P5JaHM-6gaVk6soB-JV7l5l5SUoDaR\n"
      ],
      "metadata": {
        "id": "WnvxPV1XEWaI"
      },
      "execution_count": null,
      "outputs": []
    },
    {
      "cell_type": "code",
      "source": [
        "!unzip /content/archive.zip"
      ],
      "metadata": {
        "id": "WOwaLylJsMzy"
      },
      "execution_count": null,
      "outputs": []
    },
    {
      "cell_type": "code",
      "metadata": {
        "_cell_guid": "c386cfd1-3d2e-4bd0-b1bf-2c72698afe96",
        "_uuid": "4cdc8ebf9bc167498cace36993800c819556eb04",
        "id": "tZsTSfYK5vvb"
      },
      "source": [
        "# Importing necessary libraries\n",
        "import numpy as np\n",
        "import os\n",
        "import glob\n",
        "import cv2\n",
        "import matplotlib.pyplot as plt\n",
        "import pandas as pd\n",
        "import pickle\n",
        "from keras.utils import to_categorical\n",
        "from keras.layers import Dense, Input, Conv2D, Flatten, MaxPooling2D, Activation,Dropout\n",
        "from keras.models import Model\n",
        "from keras.callbacks import ModelCheckpoint\n",
        "from keras import backend as K\n",
        "from __future__ import print_function\n",
        "import keras\n",
        "from keras.models import Sequential\n",
        "from keras.layers import Dense, Activation\n",
        "from keras.utils import to_categorical\n",
        "from keras import backend as k\n",
        "%matplotlib inline\n"
      ],
      "execution_count": null,
      "outputs": []
    },
    {
      "cell_type": "markdown",
      "metadata": {
        "_cell_guid": "49f11a3e-7149-4877-b2d1-46bcc3876d3b",
        "_uuid": "12815b115dcf40bd1d14daa942fbe18dfc330ebf",
        "id": "XHczvaE25vvj"
      },
      "source": [
        "## Step 1: Process the data"
      ]
    },
    {
      "cell_type": "markdown",
      "metadata": {
        "_cell_guid": "db9ec487-5a21-4289-9b9a-f2649e94955a",
        "_uuid": "5e998f2691200a0019ad2e3940d5acee12e628be",
        "id": "QlFAsrlV5vvk"
      },
      "source": [
        "Our dataset comes from six different source."
      ]
    },
    {
      "cell_type": "code",
      "metadata": {
        "_cell_guid": "a42ae61e-565e-48ae-b618-370dc4bd3718",
        "_uuid": "8f087bcd8bb6c49f440bd5bea4769ddd692d291e",
        "id": "tNtw5xWY5vvl"
      },
      "source": [
        "#Declaring constants\n",
        "FIG_WIDTH=20 # Width of figure\n",
        "HEIGHT_PER_ROW=3 # Height of each row when showing a figure which consists of multiple rows\n",
        "RESIZE_DIM=32 # The images will be resized to 28x28 pixels"
      ],
      "execution_count": null,
      "outputs": []
    },
    {
      "cell_type": "code",
      "source": [
        "\n",
        "paths_train_a=glob.glob(os.path.join(\"/content/training-a\",'*.png'))\n",
        "paths_train_b=glob.glob(os.path.join(\"/content/training-b\",'*.png'))\n",
        "paths_train_e=glob.glob(os.path.join(\"/content/training-c\",'*.png'))\n",
        "paths_train_c=glob.glob(os.path.join(\"/content/training-d\",'*.png'))\n",
        "paths_train_d=glob.glob(os.path.join(\"/content/training-e\",'*.png'))\n",
        "paths_train_all=paths_train_a+paths_train_b+paths_train_c+paths_train_d+paths_train_e\n",
        "\n",
        "paths_test_a=glob.glob(os.path.join(\"/content/testing-a\",'*.png'))\n",
        "paths_test_b=glob.glob(os.path.join(\"/content/testing-b\",'*.png'))\n",
        "paths_test_e=glob.glob(os.path.join(\"/content/testing-c\",'*.png'))\n",
        "paths_test_c=glob.glob(os.path.join(\"/content/testing-d\",'*.png'))\n",
        "paths_test_d=glob.glob(os.path.join(\"/content/testing-e\",'*.png'))\n",
        "paths_test_f=glob.glob(os.path.join(\"/content/testing-f\",'*.png'))\n",
        "paths_test_auga=glob.glob(os.path.join('/content/testing-auga','*.png'))\n",
        "paths_test_augc=glob.glob(os.path.join('/content/testing-augc','*.png'))\n",
        "paths_test_all=paths_test_a+paths_test_b+paths_test_c+paths_test_d+paths_test_e+paths_test_f+paths_test_auga+paths_test_augc\n",
        "\n",
        "path_label_train_a='/content/training-a.csv'\n",
        "path_label_train_b='/content/training-b.csv'\n",
        "path_label_train_e='/content/training-c.csv'\n",
        "path_label_train_c='/content/training-d.csv'\n",
        "path_label_train_d='/content/training-e.csv'"
      ],
      "metadata": {
        "id": "orI-UT0LtTbd"
      },
      "execution_count": null,
      "outputs": []
    },
    {
      "cell_type": "markdown",
      "metadata": {
        "_cell_guid": "45ef7b96-b4cb-46d5-a092-6eb10775cb3e",
        "_uuid": "5aab8d2c6139e67da8cac46a41b02dd3b0c16c1a",
        "id": "Yg6yjUXS5vvq"
      },
      "source": [
        "### Image Processing"
      ]
    },
    {
      "cell_type": "markdown",
      "metadata": {
        "_cell_guid": "7ee61a9a-b469-4fae-8770-3981bb601a68",
        "_uuid": "21cd71c9e6faa386a2c5829cf3a3e636b338f280",
        "id": "55CiGH6k5vvq"
      },
      "source": [
        "We shall write some helper functions to process and visualize the images. We will convert color to gray scale image. For better understanding we will unblur the image and make image sharp by using laplacian filter."
      ]
    },
    {
      "cell_type": "code",
      "metadata": {
        "_cell_guid": "87d7081d-aa4a-48b9-b1a4-575ceceb2eb3",
        "_uuid": "aa19885280eef5dfed1f8378d668ea7f025a7925",
        "id": "P5HOjz6h5vvr"
      },
      "source": [
        "def get_key(path):\n",
        "    # seperates the key of an image from the filepath\n",
        "    key=path.split(sep=os.sep)[-1]\n",
        "    return key\n",
        "\n",
        "def get_data(paths_img,path_label=None,resize_dim=None):\n",
        "    '''reads images from the filepaths, resizes them (if given), and returns them in a numpy array\n",
        "    Args:\n",
        "        paths_img: image filepaths\n",
        "        path_label: pass image label filepaths while processing training data, defaults to None while processing testing data\n",
        "        resize_dim: if given, the image is resized to resize_dim x resize_dim (optional)\n",
        "    Returns:\n",
        "        X: group of images\n",
        "        y: categorical true labels\n",
        "    '''\n",
        "    X=[] # initialize empty list for resized images\n",
        "    for i,path in enumerate(paths_img):\n",
        "        img=cv2.imread(path,cv2.IMREAD_GRAYSCALE) # images loaded in color (BGR)\n",
        "        #img = cv2.bilateralFilter(img,9,75,75)\n",
        "        #img = cv2.medianBlur(img,5)\n",
        "        #img = cv2.fastNlMeansDenoisingColored(img,None,10,10,7,21)\n",
        "        #img=cv2.cvtColor(img,cv2.COLOR_BGR2GRAY) # cnahging colorspace to GRAY\n",
        "        if resize_dim is not None:\n",
        "            img=cv2.resize(img,(resize_dim,resize_dim),interpolation=cv2.INTER_AREA) # resize image to 28x28\n",
        "        #X.append(np.expand_dims(img,axis=2)) # expand image to 28x28x1 and append to the list.\n",
        "        gaussian_3 = cv2.GaussianBlur(img, (9,9), 10.0) #unblur\n",
        "        img = cv2.addWeighted(img, 1.5, gaussian_3, -0.5, 0, img)\n",
        "        kernel = np.array([[-1,-1,-1], [-1,9,-1], [-1,-1,-1]]) #filter\n",
        "        img = cv2.filter2D(img, -1, kernel)\n",
        "        #thresh = 200\n",
        "        #maxValue = 255\n",
        "        #th, img = cv2.threshold(img, thresh, maxValue, cv2.THRESH_BINARY);\n",
        "        ret,img = cv2.threshold(img, 128, 255, cv2.THRESH_BINARY_INV+cv2.THRESH_OTSU)\n",
        "        X.append(img) # expand image to 28x28x1 and append to the list\n",
        "        # display progress\n",
        "        if i==len(paths_img)-1:\n",
        "            end='\\n'\n",
        "        else: end='\\r'\n",
        "        print('processed {}/{}'.format(i+1,len(paths_img)),end=end)\n",
        "\n",
        "    X=np.array(X) # tranform list to numpy array\n",
        "    if  path_label is None:\n",
        "        return X\n",
        "    else:\n",
        "        df = pd.read_csv(path_label) # read labels\n",
        "        df=df.set_index('filename')\n",
        "        y_label=[df.loc[get_key(path)]['digit'] for path in  paths_img] # get the labels corresponding to the images\n",
        "        y=to_categorical(y_label,10) # transfrom integer value to categorical variable\n",
        "        return X, y\n",
        "\n",
        "def imshow_group(X,y,y_pred=None,n_per_row=10,phase='processed'):\n",
        "    '''helper function to visualize a group of images along with their categorical true labels (y) and prediction probabilities.\n",
        "    Args:\n",
        "        X: images\n",
        "        y: categorical true labels\n",
        "        y_pred: predicted class probabilities\n",
        "        n_per_row: number of images per row to be plotted\n",
        "        phase: If the images are plotted after resizing, pass 'processed' to phase argument.\n",
        "            It will plot the image and its true label. If the image is plotted after prediction\n",
        "            phase, pass predicted class probabilities to y_pred and 'prediction' to the phase argument.\n",
        "            It will plot the image, the true label, and it's top 3 predictions with highest probabilities.\n",
        "    '''\n",
        "    n_sample=len(X)\n",
        "    img_dim=X.shape[1]\n",
        "    j=int(np.ceil(n_sample/n_per_row))\n",
        "    fig=plt.figure(figsize=(FIG_WIDTH,HEIGHT_PER_ROW*j))\n",
        "    for i,img in enumerate(X):\n",
        "        plt.subplot(j,n_per_row,i+1)\n",
        "#         img_sq=np.squeeze(img,axis=2)\n",
        "#         plt.imshow(img_sq,cmap='gray')\n",
        "        plt.imshow(img)\n",
        "        if phase=='processed':\n",
        "            plt.title(np.argmax(y[i]))\n",
        "        if phase=='prediction':\n",
        "            top_n=3 # top 3 predictions with highest probabilities\n",
        "            ind_sorted=np.argsort(y_pred[i])[::-1]\n",
        "            h=img_dim+4\n",
        "            for k in range(top_n):\n",
        "                string='pred: {} ({:.0f}%)\\n'.format(ind_sorted[k],y_pred[i,ind_sorted[k]]*100)\n",
        "                plt.text(img_dim/2, h, string, horizontalalignment='center',verticalalignment='center')\n",
        "                h+=4\n",
        "            if y is not None:\n",
        "                plt.text(img_dim/2, -4, 'true label: {}'.format(np.argmax(y[i])),\n",
        "                         horizontalalignment='center',verticalalignment='center')\n",
        "        plt.axis('off')\n",
        "    plt.show()\n",
        "\n"
      ],
      "execution_count": null,
      "outputs": []
    },
    {
      "cell_type": "markdown",
      "metadata": {
        "_cell_guid": "541cbb22-5319-490a-b6a4-8999db770722",
        "_uuid": "01fee24b540458889ebaa9d86b7646e5264e5b1e",
        "id": "SnwznmaI5vvs"
      },
      "source": [
        "Next we are going to use the `get_data()` function to process all the images from dataset"
      ]
    },
    {
      "cell_type": "code",
      "metadata": {
        "_uuid": "e4d65fdcac01f5d367ce863d79d22fbbf9b36b86",
        "id": "Jjdsm8aM5vvs"
      },
      "source": [
        "X_train_a,y_train_a=get_data(paths_train_a,path_label_train_a,resize_dim=RESIZE_DIM)\n",
        "X_train_b,y_train_b=get_data(paths_train_b,path_label_train_b,resize_dim=RESIZE_DIM)\n",
        "X_train_c,y_train_c=get_data(paths_train_c,path_label_train_c,resize_dim=RESIZE_DIM)\n",
        "X_train_d,y_train_d=get_data(paths_train_d,path_label_train_d,resize_dim=RESIZE_DIM)\n",
        "X_train_e,y_train_e=get_data(paths_train_e,path_label_train_e,resize_dim=RESIZE_DIM)"
      ],
      "execution_count": null,
      "outputs": []
    },
    {
      "cell_type": "code",
      "metadata": {
        "_cell_guid": "620a40d9-36f8-49fa-b96c-b823999daad0",
        "_uuid": "1d06bb5aaa056f719a918be3206c3f6b2e738e0b",
        "scrolled": true,
        "id": "O2Eu3gYk5vvu"
      },
      "source": [
        "X_train_all=np.concatenate((X_train_a,X_train_b,X_train_c,X_train_d,X_train_e),axis=0)\n",
        "y_train_all=np.concatenate((y_train_a,y_train_b,y_train_c,y_train_d,y_train_e),axis=0)\n",
        "X_train_all.shape, y_train_all.shape"
      ],
      "execution_count": null,
      "outputs": []
    },
    {
      "cell_type": "code",
      "metadata": {
        "_uuid": "ed3a982e1b9ac0b91ae9368c546d0d0447cc5fca",
        "id": "TRZVRgXq5vvw"
      },
      "source": [
        "X_show_all=X_train_all"
      ],
      "execution_count": null,
      "outputs": []
    },
    {
      "cell_type": "markdown",
      "metadata": {
        "_cell_guid": "6a2f1c8a-4bdf-4307-b9ea-7841175be203",
        "_uuid": "08f095d0c3ee5f77e811fa1f8046756544f8cce6",
        "id": "6z5wBRxa5vvx"
      },
      "source": [
        "Let's see some samples of the processed data. The digits are more sharp now"
      ]
    },
    {
      "cell_type": "code",
      "metadata": {
        "_uuid": "e0b3d05de0d4a6d683f8bbf9dcadbecd557d8d7c",
        "id": "6YKxQtKc5vvy"
      },
      "source": [
        "plt.subplot(221)\n",
        "plt.imshow(X_train_all[0], cmap=plt.get_cmap('gray'))\n",
        "plt.subplot(222)\n",
        "plt.imshow(X_train_all[1], cmap=plt.get_cmap('gray'))\n",
        "plt.subplot(223)\n",
        "plt.imshow(X_train_all[2], cmap=plt.get_cmap('gray'))\n",
        "plt.subplot(224)\n",
        "plt.imshow(X_train_all[3], cmap=plt.get_cmap('gray'))\n",
        "# show the plot\n",
        "plt.show()"
      ],
      "execution_count": null,
      "outputs": []
    },
    {
      "cell_type": "markdown",
      "metadata": {
        "_uuid": "4a5791e2c7d37e6c230dd8ef5fdfb6f7b592cdb6",
        "id": "Hv2YduCx5vv0"
      },
      "source": [
        "**Histogram of digit**"
      ]
    },
    {
      "cell_type": "code",
      "metadata": {
        "_uuid": "193edae07f21588132a68d0eed2b1f4646cf8a28",
        "id": "AI5ce1xM5vv2"
      },
      "source": [
        "plt.imshow(X_train_all[1])"
      ],
      "execution_count": null,
      "outputs": []
    },
    {
      "cell_type": "code",
      "metadata": {
        "_cell_guid": "5930fd41-039e-4385-b753-127a5e3494ce",
        "_uuid": "57a68268499ba8d1d68d6b62d45f6c64a6453d53",
        "id": "XnbJhwPN5vv3"
      },
      "source": [
        "X_test_a=get_data(paths_test_a,resize_dim=RESIZE_DIM)\n",
        "X_test_b=get_data(paths_test_b,resize_dim=RESIZE_DIM)\n",
        "X_test_c=get_data(paths_test_c,resize_dim=RESIZE_DIM)\n",
        "X_test_d=get_data(paths_test_d,resize_dim=RESIZE_DIM)\n",
        "X_test_e=get_data(paths_test_e,resize_dim=RESIZE_DIM)\n",
        "X_test_f=get_data(paths_test_f,resize_dim=RESIZE_DIM)\n",
        "X_test_auga=get_data(paths_test_auga,resize_dim=RESIZE_DIM)\n",
        "X_test_augc=get_data(paths_test_augc,resize_dim=RESIZE_DIM)"
      ],
      "execution_count": null,
      "outputs": []
    },
    {
      "cell_type": "code",
      "source": [
        "X_test_augc.ndim"
      ],
      "metadata": {
        "id": "m4R9VFONwtRQ"
      },
      "execution_count": null,
      "outputs": []
    },
    {
      "cell_type": "code",
      "metadata": {
        "_cell_guid": "1b380d90-c66f-42c9-ae97-5103e18a7c7a",
        "_uuid": "a26c04ac67f1c7919dede57707dd11f94d4590cb",
        "scrolled": true,
        "id": "4qtquGrr5vv5"
      },
      "source": [
        "X_test_all=np.concatenate((X_test_a,X_test_b,X_test_c,X_test_d,X_test_e,X_test_f,X_test_auga,X_test_augc))"
      ],
      "execution_count": null,
      "outputs": []
    },
    {
      "cell_type": "code",
      "metadata": {
        "_uuid": "e8ef1f0166e80464b15fc7e23c4be85cc92129ed",
        "id": "KDZmeZZ85vv6"
      },
      "source": [
        "X_tshow_all=X_test_all\n",
        "X_tshow_all.shape"
      ],
      "execution_count": null,
      "outputs": []
    },
    {
      "cell_type": "markdown",
      "metadata": {
        "_uuid": "050db40f873909fb7eaddc593742560b81bb104f",
        "id": "IEXF5bG85vv9"
      },
      "source": [
        "We will now convert image to 1 color channel"
      ]
    },
    {
      "cell_type": "code",
      "metadata": {
        "_uuid": "3a924ec72e3e201ab7fc7a7b14c4285625cc7788",
        "id": "7-h2lXrV5vv9"
      },
      "source": [
        "X_train_all = X_train_all.reshape(X_train_all.shape[0],32, 32,1).astype('float32')\n",
        "X_test_all = X_test_all.reshape(X_test_all.shape[0],32, 32,1).astype('float32')"
      ],
      "execution_count": null,
      "outputs": []
    },
    {
      "cell_type": "code",
      "metadata": {
        "_uuid": "b6e46f3c07abdc22612a4996ea626f050a9b84d9",
        "id": "7hH5Aihy5vv_"
      },
      "source": [
        "X_train_all.shape"
      ],
      "execution_count": null,
      "outputs": []
    },
    {
      "cell_type": "code",
      "source": [
        "X_test_all.shape"
      ],
      "metadata": {
        "id": "HIBwV71WdWMA"
      },
      "execution_count": null,
      "outputs": []
    },
    {
      "cell_type": "markdown",
      "metadata": {
        "_uuid": "a75a4c52d3ebc246ac7ed01da04a47e4c0c6816e",
        "id": "CD80F_yk5vwC"
      },
      "source": [
        "**Normalize data**"
      ]
    },
    {
      "cell_type": "code",
      "metadata": {
        "_uuid": "f35d6a704e6d1015a2e65a5ca8f66e1aef8afb9b",
        "id": "HOJig0sU5vwD"
      },
      "source": [
        "X_train_all = X_train_all/255\n",
        "X_test_all=X_test_all/255"
      ],
      "execution_count": null,
      "outputs": []
    },
    {
      "cell_type": "markdown",
      "metadata": {
        "_cell_guid": "d32f9092-0d61-4a31-940a-c47bd4a7ab70",
        "_uuid": "100fe511f70f708fe5a9a4a20a423d5cc5fc5d31",
        "id": "AcRNimMg5vwF"
      },
      "source": [
        "Next, we are going to randomly choose 80% of the training data and use it to train our neural network. The remaining 20% images are going to be our validation data."
      ]
    },
    {
      "cell_type": "code",
      "metadata": {
        "_cell_guid": "45550d4b-7b11-4277-b968-3cbc74161537",
        "_uuid": "ec1470e959cf087a27d9ca3d349f2f5dd8687528",
        "id": "nmBOV3uD5vwF"
      },
      "source": [
        "indices=list(range(len(X_train_all)))\n",
        "np.random.seed(42)\n",
        "np.random.shuffle(indices)\n",
        "\n",
        "ind=int(len(indices)*0.80)\n",
        "# train data\n",
        "X_train=X_train_all[indices[:ind]]\n",
        "y_train=y_train_all[indices[:ind]]\n",
        "# validation data\n",
        "X_val=X_train_all[indices[-(len(indices)-ind):]]\n",
        "y_val=y_train_all[indices[-(len(indices)-ind):]]"
      ],
      "execution_count": null,
      "outputs": []
    },
    {
      "cell_type": "code",
      "source": [
        "y_train[0]"
      ],
      "metadata": {
        "id": "7YTniZTfTizN"
      },
      "execution_count": null,
      "outputs": []
    },
    {
      "cell_type": "markdown",
      "metadata": {
        "_cell_guid": "32382aae-4756-457e-af68-5fd94603ddfb",
        "_uuid": "ba5d4e25fb97b4afcb84f85c8788da6244afadaf",
        "id": "qQFsPI3S5vwG"
      },
      "source": [
        "## Step 2: Design the model"
      ]
    },
    {
      "cell_type": "markdown",
      "metadata": {
        "_cell_guid": "8f3f9cf5-17d0-4b3a-b544-84bee00bf280",
        "_uuid": "52b0f9b0fabc92f87bcd85ca6e04c93df7343ae4",
        "id": "nJXUqiF05vwH"
      },
      "source": []
    },
    {
      "cell_type": "code",
      "metadata": {
        "_uuid": "9748e26b1a1cbda489a438723277d7a93abcb3c8",
        "id": "m5Ff27HH5vwH"
      },
      "source": [
        "def my_model(img_size=32,channels=1):\n",
        "    model = Sequential()\n",
        "    input_shape = (img_size,img_size,channels)\n",
        "    model.add(Conv2D(32, (5, 5), input_shape=input_shape,activation='relu', padding='same'))\n",
        "    model.add(Conv2D(32, (5, 5), activation='relu', padding='same'))\n",
        "    model.add(MaxPooling2D(pool_size=(2, 2)))\n",
        "\n",
        "    model.add(Conv2D(128, (3, 3),activation='relu',padding='same'))\n",
        "    model.add(Conv2D(128, (3, 3),activation='relu',padding='same'))\n",
        "\n",
        "    model.add(MaxPooling2D(pool_size=(2, 2)))\n",
        "\n",
        "    model.add(Conv2D(256, (3, 3),activation='relu',padding='same'))\n",
        "    model.add(Conv2D(256, (3, 3),activation='relu',padding='same'))\n",
        "    model.add(MaxPooling2D(pool_size=(2, 2)))\n",
        "\n",
        "    model.add(Flatten())\n",
        "    model.add(Dense(64))\n",
        "    model.add(Activation('relu'))\n",
        "    model.add(Dropout(0.2))\n",
        "    model.add(Dense(10))\n",
        "    model.add(Activation('softmax'))\n",
        "\n",
        "    model.compile(loss='categorical_crossentropy', metrics=['accuracy'],optimizer='adam')\n",
        "    # UNCOMMENT THIS TO VIEW THE ARCHITECTURE\n",
        "    #model.summary()\n",
        "\n",
        "    return model\n",
        "model=my_model()\n",
        "model.summary()"
      ],
      "execution_count": null,
      "outputs": []
    },
    {
      "cell_type": "markdown",
      "metadata": {
        "_cell_guid": "ee9607d4-40d3-449d-948d-ca743a6f9d77",
        "_uuid": "0b0adac9af387df7adc0cf26954802305849396e",
        "id": "HKEyRXhG5vwJ"
      },
      "source": [
        "## Step 3: Train the model"
      ]
    },
    {
      "cell_type": "code",
      "metadata": {
        "_cell_guid": "7b15bdc9-1794-4eda-9d48-f544be3e382c",
        "_uuid": "f220f61fae1fae8c1cfb2f843300b489937b0090",
        "scrolled": true,
        "id": "g-4HMu905vwJ"
      },
      "source": [
        "path_model='model_filter.h5' # save model at this location after each epoch\n",
        "\n",
        "model=my_model() # create the model\n",
        "K.set_value(model.optimizer.lr,1e-3) # set the learning rate\n",
        "# fit the model\n",
        "h=model.fit(x=X_train,\n",
        "            y=y_train,\n",
        "            batch_size=64,\n",
        "            epochs=10,\n",
        "            verbose=1,\n",
        "            validation_data=(X_val,y_val),\n",
        "            shuffle=True,\n",
        "            callbacks=[\n",
        "                ModelCheckpoint(filepath=path_model),\n",
        "            ]\n",
        "            )"
      ],
      "execution_count": null,
      "outputs": []
    },
    {
      "cell_type": "markdown",
      "metadata": {
        "_cell_guid": "1862ff7c-a071-4015-bb48-f9670a3112db",
        "_uuid": "d89525da13f845e3417890b968fb5d7753f4e54f",
        "id": "Z61Vbph95vwM"
      },
      "source": [
        "# After 30 epochs we have a decent training and valiadation accuracy on dataset."
      ]
    },
    {
      "cell_type": "markdown",
      "metadata": {
        "_cell_guid": "85658a4d-697d-46ef-91cc-e87a8c4c2f89",
        "_uuid": "97b8d77f4c3a692f939ffa94a466dfd257834d5a",
        "id": "et0fg71f5vwM"
      },
      "source": [
        "## Result Analysis"
      ]
    },
    {
      "cell_type": "markdown",
      "metadata": {
        "_cell_guid": "6b4b108e-4a11-489c-b068-55fecad1ea67",
        "_uuid": "8913f144fc15314e1a98cead1048635bfd758fd0",
        "id": "_apnLg345vwM"
      },
      "source": [
        "Let's observe the images by our model."
      ]
    },
    {
      "cell_type": "code",
      "metadata": {
        "_cell_guid": "383c8574-c022-4a52-a3d9-f6c7edabc44d",
        "_uuid": "0b019de716cc8c0ab602d2600b590d83e310fb1f",
        "id": "2EDsSP3H5vwN"
      },
      "source": [
        "predictions_prob=model.predict(X_test_all) # get predictions for all the test data"
      ],
      "execution_count": null,
      "outputs": []
    },
    {
      "cell_type": "code",
      "metadata": {
        "_cell_guid": "d0993d24-b26d-4934-84a0-ac145f4e8594",
        "_uuid": "4822a937ea504052db7b326595866e7a276e0a2a",
        "id": "WWcx9YXO5vwO"
      },
      "source": [
        "n_sample=200\n",
        "np.random.seed(4)\n",
        "ind=np.random.randint(0,len(X_test_all), size=n_sample)"
      ],
      "execution_count": null,
      "outputs": []
    },
    {
      "cell_type": "code",
      "metadata": {
        "_cell_guid": "9f4260e9-e5e6-4b5e-8565-d5bed1bbc359",
        "_uuid": "2b6ec0f33275de9e2b2a4b0bd12b202f8d067551",
        "id": "3QL41zbG5vwP"
      },
      "source": [
        "imshow_group(X=X_tshow_all[ind],y=None,y_pred=predictions_prob[ind], phase='prediction')"
      ],
      "execution_count": null,
      "outputs": []
    },
    {
      "cell_type": "code",
      "source": [
        "val_pred = model.predict(X_val)"
      ],
      "metadata": {
        "id": "A7QB8WuBgAfa"
      },
      "execution_count": null,
      "outputs": []
    },
    {
      "cell_type": "code",
      "source": [
        "from sklearn.metrics import confusion_matrix\n",
        "\n",
        "confusion = confusion_matrix(np.argmax(y_val,axis=1), np.argmax(val_pred,axis=1))"
      ],
      "metadata": {
        "id": "Aqeb5YUydSMP"
      },
      "execution_count": null,
      "outputs": []
    },
    {
      "cell_type": "code",
      "source": [
        "confusion"
      ],
      "metadata": {
        "id": "ggWj33f2dTMu"
      },
      "execution_count": null,
      "outputs": []
    },
    {
      "cell_type": "code",
      "source": [
        "from mlxtend.plotting import plot_confusion_matrix\n",
        "\n",
        "fig, ax = plot_confusion_matrix(conf_mat=confusion, figsize=(8, 6), cmap=plt.cm.Greens)\n",
        "plt.xlabel('Predictions', fontsize=18)\n",
        "plt.ylabel('Actuals', fontsize=18)\n",
        "plt.title('Confusion Matrix', fontsize=18)\n",
        "plt.show()"
      ],
      "metadata": {
        "id": "oAQ9dqyWdWqx"
      },
      "execution_count": null,
      "outputs": []
    },
    {
      "cell_type": "code",
      "source": [
        "from sklearn.metrics import classification_report\n",
        "\n",
        "target_names = ['class 0', 'class 1', 'class 2','class 3','class 4','class 5','class 6','class 7','class 8','class 9']\n",
        "print(classification_report(np.argmax(y_val,axis=1), np.argmax(val_pred,axis=1), target_names=target_names))"
      ],
      "metadata": {
        "id": "XKnL0ABEdaet"
      },
      "execution_count": null,
      "outputs": []
    },
    {
      "cell_type": "code",
      "metadata": {
        "_uuid": "c68432b931be3671f4c7b501ac1ff4339bbaa745",
        "id": "wO3t5jF_5vwY"
      },
      "source": [
        "import keras.utils as image\n",
        "\n",
        "from google.colab import files"
      ],
      "execution_count": null,
      "outputs": []
    },
    {
      "cell_type": "code",
      "metadata": {
        "_uuid": "2f3cef391776026ced9f273990934402ce275c92",
        "id": "ZdSrUJ905vwZ"
      },
      "source": [
        "# Model Prediction\n",
        "print(\"========================== Model Prediction ==========================\")\n",
        "uploaded = files.upload()\n",
        "\n",
        "for fn in uploaded.keys():\n",
        "  path = '/content/' + fn\n",
        "  img = image.load_img(path)\n",
        "  x = image.img_to_array(img)\n",
        "  x = cv2.cvtColor(x, cv2.COLOR_BGR2GRAY)\n",
        "  print(\"**************** Uploaded Image ****************\")\n",
        "  plt.imshow(x,cmap='gray')\n",
        "  plt.show()\n",
        "  x = cv2.resize(np.array(x), (32, 32))\n",
        "  x = x.reshape(32,32,1)\n",
        "  x= x/255.0\n",
        "  x = np.expand_dims(x, axis=0)\n",
        "\n",
        "  class_label = model.predict(x)\n",
        "  print(class_label)\n",
        "  print(\"Predicted Value is:\",np.where(class_label[0]==max(class_label[0]))[0])"
      ],
      "execution_count": null,
      "outputs": []
    },
    {
      "cell_type": "code",
      "source": [],
      "metadata": {
        "id": "tDl8S_nn4prf"
      },
      "execution_count": null,
      "outputs": []
    }
  ]
}