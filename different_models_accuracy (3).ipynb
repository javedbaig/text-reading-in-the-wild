{
  "nbformat": 4,
  "nbformat_minor": 0,
  "metadata": {
    "colab": {
      "provenance": []
    },
    "kernelspec": {
      "name": "python3",
      "display_name": "Python 3"
    },
    "language_info": {
      "name": "python"
    }
  },
  "cells": [
    {
      "cell_type": "code",
      "execution_count": null,
      "metadata": {
        "id": "Ve4DNoUh2Wrs"
      },
      "outputs": [],
      "source": [
        "#NumtDB dataset\n",
        "# google drive link - https://drive.google.com/file/d/1p-P5JaHM-6gaVk6soB-JV7l5l5SUoDaR/view?usp=sharing\n",
        "!gdown 1p-P5JaHM-6gaVk6soB-JV7l5l5SUoDaR\n",
        "!unzip /content/archive.zip"
      ]
    },
    {
      "cell_type": "code",
      "source": [
        "# Importing necessary libraries\n",
        "import numpy as np\n",
        "import os\n",
        "import glob\n",
        "import cv2\n",
        "import matplotlib.pyplot as plt\n",
        "%matplotlib inline\n",
        "import pandas as pd\n",
        "import pickle\n",
        "from keras.layers import Dense, Input, Conv2D, Flatten, MaxPooling2D, Activation,Dropout\n",
        "from keras.models import Model\n",
        "from keras.callbacks import ModelCheckpoint\n",
        "from keras import backend as K\n",
        "from __future__ import print_function\n",
        "import keras\n",
        "from keras.models import Sequential\n",
        "from keras.layers import Dense, Activation\n",
        "from keras.utils import to_categorical"
      ],
      "metadata": {
        "id": "jtsjPcvJ3NHt"
      },
      "execution_count": null,
      "outputs": []
    },
    {
      "cell_type": "code",
      "source": [
        "#Declaring constants\n",
        "FIG_WIDTH=20 # Width of figure\n",
        "HEIGHT_PER_ROW=3 # Height of each row when showing a figure which consists of multiple rows\n",
        "RESIZE_DIM=32 # The images will be resized to 28x28 pixels"
      ],
      "metadata": {
        "id": "CACYwWNZ3h1F"
      },
      "execution_count": null,
      "outputs": []
    },
    {
      "cell_type": "code",
      "source": [
        "paths_train_a=glob.glob(os.path.join(\"/content/training-a\",'*.png'))\n",
        "paths_train_b=glob.glob(os.path.join(\"/content/training-b\",'*.png'))\n",
        "paths_train_e=glob.glob(os.path.join(\"/content/training-c\",'*.png'))\n",
        "paths_train_c=glob.glob(os.path.join(\"/content/training-d\",'*.png'))\n",
        "paths_train_d=glob.glob(os.path.join(\"/content/training-e\",'*.png'))\n",
        "paths_train_all=paths_train_a+paths_train_b+paths_train_c+paths_train_d+paths_train_e\n",
        "\n",
        "paths_test_a=glob.glob(os.path.join(\"/content/testing-a\",'*.png'))\n",
        "paths_test_b=glob.glob(os.path.join(\"/content/testing-b\",'*.png'))\n",
        "paths_test_e=glob.glob(os.path.join(\"/content/testing-c\",'*.png'))\n",
        "paths_test_c=glob.glob(os.path.join(\"/content/testing-d\",'*.png'))\n",
        "paths_test_d=glob.glob(os.path.join(\"/content/testing-e\",'*.png'))\n",
        "paths_test_f=glob.glob(os.path.join(\"/content/testing-f\",'*.png'))\n",
        "paths_test_auga=glob.glob(os.path.join('/content/testing-auga','*.png'))\n",
        "paths_test_augc=glob.glob(os.path.join('/content/testing-augc','*.png'))\n",
        "paths_test_all=paths_test_a+paths_test_b+paths_test_c+paths_test_d+paths_test_e+paths_test_f+paths_test_auga+paths_test_augc\n",
        "\n",
        "path_label_train_a='/content/training-a.csv'\n",
        "path_label_train_b='/content/training-b.csv'\n",
        "path_label_train_e='/content/training-c.csv'\n",
        "path_label_train_c='/content/training-d.csv'\n",
        "path_label_train_d='/content/training-e.csv'"
      ],
      "metadata": {
        "id": "aKxYeODh3ia4"
      },
      "execution_count": null,
      "outputs": []
    },
    {
      "cell_type": "code",
      "source": [
        "def get_key(path):\n",
        "    # seperates the key of an image from the filepath\n",
        "    key=path.split(sep=os.sep)[-1]\n",
        "    return key\n",
        "\n",
        "def get_data(paths_img,path_label=None,resize_dim=None):\n",
        "    '''reads images from the filepaths, resizes them (if given), and returns them in a numpy array\n",
        "    Args:\n",
        "        paths_img: image filepaths\n",
        "        path_label: pass image label filepaths while processing training data, defaults to None while processing testing data\n",
        "        resize_dim: if given, the image is resized to resize_dim x resize_dim (optional)\n",
        "    Returns:\n",
        "        X: group of images\n",
        "        y: categorical true labels\n",
        "    '''\n",
        "    X=[] # initialize empty list for resized images\n",
        "    for i,path in enumerate(paths_img):\n",
        "        img=cv2.imread(path,cv2.IMREAD_GRAYSCALE) # images loaded in color (BGR)\n",
        "        #img = cv2.bilateralFilter(img,9,75,75)\n",
        "        #img = cv2.medianBlur(img,5)\n",
        "        #img = cv2.fastNlMeansDenoisingColored(img,None,10,10,7,21)\n",
        "        #img=cv2.cvtColor(img,cv2.COLOR_BGR2GRAY) # cnahging colorspace to GRAY\n",
        "        if resize_dim is not None:\n",
        "            img=cv2.resize(img,(resize_dim,resize_dim),interpolation=cv2.INTER_AREA) # resize image to 28x28\n",
        "        #X.append(np.expand_dims(img,axis=2)) # expand image to 28x28x1 and append to the list.\n",
        "        gaussian_3 = cv2.GaussianBlur(img, (9,9), 10.0) #unblur\n",
        "        img = cv2.addWeighted(img, 1.5, gaussian_3, -0.5, 0, img)\n",
        "        kernel = np.array([[-1,-1,-1], [-1,9,-1], [-1,-1,-1]]) #filter\n",
        "        img = cv2.filter2D(img, -1, kernel)\n",
        "        #thresh = 200\n",
        "        #maxValue = 255\n",
        "        #th, img = cv2.threshold(img, thresh, maxValue, cv2.THRESH_BINARY);\n",
        "        ret,img = cv2.threshold(img, 128, 255, cv2.THRESH_BINARY_INV+cv2.THRESH_OTSU)\n",
        "        X.append(img) # expand image to 28x28x1 and append to the list\n",
        "        # display progress\n",
        "        if i==len(paths_img)-1:\n",
        "            end='\\n'\n",
        "        else: end='\\r'\n",
        "        print('processed {}/{}'.format(i+1,len(paths_img)),end=end)\n",
        "\n",
        "    X=np.array(X) # tranform list to numpy array\n",
        "    if  path_label is None:\n",
        "        return X\n",
        "    else:\n",
        "        df = pd.read_csv(path_label) # read labels\n",
        "        df=df.set_index('filename')\n",
        "        y_label=[df.loc[get_key(path)]['digit'] for path in  paths_img] # get the labels corresponding to the images\n",
        "        y=to_categorical(y_label,10) # transfrom integer value to categorical variable\n",
        "        return X, y\n",
        "\n",
        "def imshow_group(X,y,y_pred=None,n_per_row=10,phase='processed'):\n",
        "    '''helper function to visualize a group of images along with their categorical true labels (y) and prediction probabilities.\n",
        "    Args:\n",
        "        X: images\n",
        "        y: categorical true labels\n",
        "        y_pred: predicted class probabilities\n",
        "        n_per_row: number of images per row to be plotted\n",
        "        phase: If the images are plotted after resizing, pass 'processed' to phase argument.\n",
        "            It will plot the image and its true label. If the image is plotted after prediction\n",
        "            phase, pass predicted class probabilities to y_pred and 'prediction' to the phase argument.\n",
        "            It will plot the image, the true label, and it's top 3 predictions with highest probabilities.\n",
        "    '''\n",
        "    n_sample=len(X)\n",
        "    img_dim=X.shape[1]\n",
        "    j=int(np.ceil(n_sample/n_per_row))\n",
        "    fig=plt.figure(figsize=(FIG_WIDTH,HEIGHT_PER_ROW*j))\n",
        "    for i,img in enumerate(X):\n",
        "        plt.subplot(j,n_per_row,i+1)\n",
        "#         img_sq=np.squeeze(img,axis=2)\n",
        "#         plt.imshow(img_sq,cmap='gray')\n",
        "        plt.imshow(img)\n",
        "        if phase=='processed':\n",
        "            plt.title(np.argmax(y[i]))\n",
        "        if phase=='prediction':\n",
        "            top_n=3 # top 3 predictions with highest probabilities\n",
        "            ind_sorted=np.argsort(y_pred[i])[::-1]\n",
        "            h=img_dim+4\n",
        "            for k in range(top_n):\n",
        "                string='pred: {} ({:.0f}%)\\n'.format(ind_sorted[k],y_pred[i,ind_sorted[k]]*100)\n",
        "                plt.text(img_dim/2, h, string, horizontalalignment='center',verticalalignment='center')\n",
        "                h+=4\n",
        "            if y is not None:\n",
        "                plt.text(img_dim/2, -4, 'true label: {}'.format(np.argmax(y[i])),\n",
        "                         horizontalalignment='center',verticalalignment='center')\n",
        "        plt.axis('off')\n",
        "    plt.show()\n",
        "\n",
        "def create_submission(predictions,keys,path):\n",
        "    result = pd.DataFrame(\n",
        "        predictions,\n",
        "        columns=['label'],\n",
        "        index=keys\n",
        "        )\n",
        "    result.index.name='key'\n",
        "    result.to_csv(path, index=True)"
      ],
      "metadata": {
        "id": "mFzuzuRc3oii"
      },
      "execution_count": null,
      "outputs": []
    },
    {
      "cell_type": "code",
      "source": [
        "X_train_a,y_train_a=get_data(paths_train_a,path_label_train_a,resize_dim=RESIZE_DIM)\n",
        "X_train_b,y_train_b=get_data(paths_train_b,path_label_train_b,resize_dim=RESIZE_DIM)\n",
        "X_train_c,y_train_c=get_data(paths_train_c,path_label_train_c,resize_dim=RESIZE_DIM)\n",
        "X_train_d,y_train_d=get_data(paths_train_d,path_label_train_d,resize_dim=RESIZE_DIM)\n",
        "X_train_e,y_train_e=get_data(paths_train_e,path_label_train_e,resize_dim=RESIZE_DIM)"
      ],
      "metadata": {
        "id": "SwRZrKkk3tQs"
      },
      "execution_count": null,
      "outputs": []
    },
    {
      "cell_type": "code",
      "source": [
        "X_train_all=np.concatenate((X_train_a,X_train_b,X_train_c,X_train_d,X_train_e),axis=0)\n",
        "y_train_all=np.concatenate((y_train_a,y_train_b,y_train_c,y_train_d,y_train_e),axis=0)\n",
        "X_train_all.shape, y_train_all.shape"
      ],
      "metadata": {
        "id": "0rsSHH293wbR"
      },
      "execution_count": null,
      "outputs": []
    },
    {
      "cell_type": "code",
      "source": [
        "X_test_a=get_data(paths_test_a,resize_dim=RESIZE_DIM)\n",
        "X_test_b=get_data(paths_test_b,resize_dim=RESIZE_DIM)\n",
        "X_test_c=get_data(paths_test_c,resize_dim=RESIZE_DIM)\n",
        "X_test_d=get_data(paths_test_d,resize_dim=RESIZE_DIM)\n",
        "X_test_e=get_data(paths_test_e,resize_dim=RESIZE_DIM)\n",
        "X_test_f=get_data(paths_test_f,resize_dim=RESIZE_DIM)\n",
        "X_test_auga=get_data(paths_test_auga,resize_dim=RESIZE_DIM)\n",
        "X_test_augc=get_data(paths_test_augc,resize_dim=RESIZE_DIM)"
      ],
      "metadata": {
        "id": "jr1RMepd4z9A"
      },
      "execution_count": null,
      "outputs": []
    },
    {
      "cell_type": "code",
      "source": [
        "X_test_all=np.concatenate((X_test_a,X_test_b,X_test_c,X_test_d,X_test_e,X_test_f,X_test_auga,X_test_augc))"
      ],
      "metadata": {
        "id": "z2x79cnF40ru"
      },
      "execution_count": null,
      "outputs": []
    },
    {
      "cell_type": "code",
      "source": [
        "X_test_all.shape"
      ],
      "metadata": {
        "id": "o4TaqtZJ477u"
      },
      "execution_count": null,
      "outputs": []
    },
    {
      "cell_type": "code",
      "source": [
        "#train and validation split\n",
        "indices=list(range(len(X_train_all)))\n",
        "np.random.seed(42)\n",
        "np.random.shuffle(indices)\n",
        "\n",
        "ind=int(len(indices)*0.80)\n",
        "# train data\n",
        "X_train=X_train_all[indices[:ind]]\n",
        "y_train=y_train_all[indices[:ind]]\n",
        "# validation data\n",
        "X_val=X_train_all[indices[-(len(indices)-ind):]]\n",
        "y_val=y_train_all[indices[-(len(indices)-ind):]]"
      ],
      "metadata": {
        "id": "HpOKOEHy5Es7"
      },
      "execution_count": null,
      "outputs": []
    },
    {
      "cell_type": "code",
      "source": [
        "labels = []\n",
        "for i in range(len(y_train)):\n",
        "  new_arrr = []\n",
        "  new_arrr = (np.where(y_train[i]==1.0)[0][0])\n",
        "  labels.append(new_arrr)"
      ],
      "metadata": {
        "id": "zAI21YO68ZLb"
      },
      "execution_count": null,
      "outputs": []
    },
    {
      "cell_type": "code",
      "source": [
        "test_labels = []\n",
        "for i in range(len(y_val)):\n",
        "  new_arrr = []\n",
        "  new_arrr = (np.where(y_val[i]==1.0)[0][0])\n",
        "  test_labels.append(new_arrr)"
      ],
      "metadata": {
        "id": "I9JYoQw-EZJu"
      },
      "execution_count": null,
      "outputs": []
    },
    {
      "cell_type": "code",
      "source": [
        "def my_model(img_size=32,channels=1):\n",
        "    model = Sequential()\n",
        "    input_shape = (img_size,img_size,channels)\n",
        "    model.add(Conv2D(32, (5, 5), input_shape=input_shape,activation='relu', padding='same'))\n",
        "    model.add(Conv2D(32, (5, 5), activation='relu', padding='same'))\n",
        "    model.add(MaxPooling2D(pool_size=(2, 2)))\n",
        "\n",
        "    model.add(Conv2D(128, (3, 3),activation='relu',padding='same'))\n",
        "    model.add(Conv2D(128, (3, 3),activation='relu',padding='same'))\n",
        "\n",
        "    model.add(MaxPooling2D(pool_size=(2, 2)))\n",
        "\n",
        "    model.add(Conv2D(256, (3, 3),activation='relu',padding='same'))\n",
        "    model.add(Conv2D(256, (3, 3),activation='relu',padding='same'))\n",
        "    model.add(MaxPooling2D(pool_size=(2, 2)))\n",
        "\n",
        "    model.add(Flatten())\n",
        "    model.add(Dense(64))\n",
        "    model.add(Activation('relu'))\n",
        "    model.add(Dropout(0.2))\n",
        "    model.add(Dense(10))\n",
        "    model.add(Activation('softmax'))\n",
        "\n",
        "    model.compile(loss='categorical_crossentropy', metrics=['accuracy'],optimizer='adam')\n",
        "    # UNCOMMENT THIS TO VIEW THE ARCHITECTURE\n",
        "    #model.summary()\n",
        "\n",
        "    return model\n",
        "model=my_model()\n",
        "model.summary()"
      ],
      "metadata": {
        "id": "euYSyghAsHdZ"
      },
      "execution_count": null,
      "outputs": []
    },
    {
      "cell_type": "code",
      "source": [
        "path_model='model_filter.h5' # save model at this location after each epoch\n",
        "\n",
        "model=my_model() # create the model\n",
        "K.set_value(model.optimizer.lr,1e-3) # set the learning rate\n",
        "# fit the model\n",
        "h=model.fit(x=X_train,\n",
        "            y=y_train,\n",
        "            batch_size=64,\n",
        "            epochs=10,\n",
        "            verbose=1,\n",
        "            validation_data=(X_val,y_val),\n",
        "            shuffle=True,\n",
        "            callbacks=[\n",
        "                ModelCheckpoint(filepath=path_model),\n",
        "            ]\n",
        "            )"
      ],
      "metadata": {
        "id": "DPWa6OxrsMRR"
      },
      "execution_count": null,
      "outputs": []
    },
    {
      "cell_type": "code",
      "source": [
        "predictions_prob=model.predict(X_test_all)"
      ],
      "metadata": {
        "id": "07UMWq6fPPr-"
      },
      "execution_count": null,
      "outputs": []
    },
    {
      "cell_type": "code",
      "source": [
        "val_pred = model.predict(X_val)"
      ],
      "metadata": {
        "id": "eUSCwqpFPnD9"
      },
      "execution_count": null,
      "outputs": []
    },
    {
      "cell_type": "code",
      "source": [
        "from sklearn.metrics import confusion_matrix\n",
        "\n",
        "confusion = confusion_matrix(np.argmax(y_val,axis=1), np.argmax(val_pred,axis=1))"
      ],
      "metadata": {
        "id": "Odo88tNjPp_d"
      },
      "execution_count": null,
      "outputs": []
    },
    {
      "cell_type": "code",
      "source": [
        "confusion"
      ],
      "metadata": {
        "id": "XVXPVTokPrAE"
      },
      "execution_count": null,
      "outputs": []
    },
    {
      "cell_type": "code",
      "source": [
        "from sklearn.metrics import classification_report\n",
        "\n",
        "target_names = ['class 0', 'class 1', 'class 2','class 3','class 4','class 5','class 6','class 7','class 8','class 9']\n",
        "print(classification_report(np.argmax(y_val,axis=1), np.argmax(val_pred,axis=1), target_names=target_names))"
      ],
      "metadata": {
        "id": "LJUa6D2VQMd6"
      },
      "execution_count": null,
      "outputs": []
    },
    {
      "cell_type": "markdown",
      "source": [
        "# NumtaDB on Ramdom forest classifier"
      ],
      "metadata": {
        "id": "dcG2eeyP23Qv"
      }
    },
    {
      "cell_type": "code",
      "source": [
        "from sklearn.ensemble import RandomForestClassifier\n",
        "from sklearn.metrics import accuracy_score"
      ],
      "metadata": {
        "id": "BkS_8MQOtpVx"
      },
      "execution_count": null,
      "outputs": []
    },
    {
      "cell_type": "code",
      "source": [
        "model_random = RandomForestClassifier(n_estimators=100, random_state=42)"
      ],
      "metadata": {
        "id": "EiQkZwChtspk"
      },
      "execution_count": null,
      "outputs": []
    },
    {
      "cell_type": "code",
      "source": [
        "X_train.shape"
      ],
      "metadata": {
        "id": "Ap_mXTyo0ZMi"
      },
      "execution_count": null,
      "outputs": []
    },
    {
      "cell_type": "code",
      "source": [
        "model_random.fit(X_train.reshape(X_train.shape[0], 32*32), labels)"
      ],
      "metadata": {
        "id": "yv5W5H15t00u"
      },
      "execution_count": null,
      "outputs": []
    },
    {
      "cell_type": "code",
      "source": [
        "y_predict = model_random.predict(X_val.reshape(X_val.shape[0], 32*32))"
      ],
      "metadata": {
        "id": "Q1-N9K_g2I_3"
      },
      "execution_count": null,
      "outputs": []
    },
    {
      "cell_type": "code",
      "source": [
        "y_predict"
      ],
      "metadata": {
        "id": "RLPFROro520e"
      },
      "execution_count": null,
      "outputs": []
    },
    {
      "cell_type": "code",
      "source": [
        "y_predict"
      ],
      "metadata": {
        "id": "30lPkrSZ562T"
      },
      "execution_count": null,
      "outputs": []
    },
    {
      "cell_type": "code",
      "source": [
        "# Evaluate the model's performance\n",
        "accuracy = accuracy_score(test_labels, y_predict)\n",
        "print(f\"Accuracy: {accuracy:.2f}\")"
      ],
      "metadata": {
        "id": "S2js-NubuzsW"
      },
      "execution_count": null,
      "outputs": []
    },
    {
      "cell_type": "code",
      "source": [
        "from sklearn.metrics import confusion_matrix\n",
        "\n",
        "confusion = confusion_matrix(test_labels, y_predict)"
      ],
      "metadata": {
        "id": "migb__2F2sFe"
      },
      "execution_count": null,
      "outputs": []
    },
    {
      "cell_type": "code",
      "source": [
        "confusion"
      ],
      "metadata": {
        "id": "jmXkRapl3Jd2"
      },
      "execution_count": null,
      "outputs": []
    },
    {
      "cell_type": "code",
      "source": [
        "from sklearn.metrics import classification_report\n",
        "\n",
        "target_names = ['class 0', 'class 1', 'class 2','class 3','class 4','class 5','class 6','class 7','class 8','class 9']\n",
        "print(classification_report(test_labels, y_predict, target_names=target_names))"
      ],
      "metadata": {
        "id": "79tOWfqp6atB"
      },
      "execution_count": null,
      "outputs": []
    },
    {
      "cell_type": "markdown",
      "source": [
        "# NumtaDB on KNN"
      ],
      "metadata": {
        "id": "ZmEDo2896szN"
      }
    },
    {
      "cell_type": "code",
      "source": [
        "from sklearn.neighbors import KNeighborsClassifier\n",
        "from sklearn.metrics import accuracy_score"
      ],
      "metadata": {
        "id": "7YFUbLR36-qe"
      },
      "execution_count": null,
      "outputs": []
    },
    {
      "cell_type": "code",
      "source": [
        "k = 5  # Number of neighbors\n",
        "model_KNN = KNeighborsClassifier(n_neighbors=k)"
      ],
      "metadata": {
        "id": "zUWLrCy35_cV"
      },
      "execution_count": null,
      "outputs": []
    },
    {
      "cell_type": "code",
      "source": [
        "model_KNN.fit(X_train.reshape(X_train.shape[0], 32*32), labels)"
      ],
      "metadata": {
        "id": "Hgfp-PWG7YVK"
      },
      "execution_count": null,
      "outputs": []
    },
    {
      "cell_type": "code",
      "source": [
        "y_pred_KNN = model_KNN.predict(X_val.reshape(X_val.shape[0], 32*32))"
      ],
      "metadata": {
        "id": "GywgIvDNeJ4o"
      },
      "execution_count": null,
      "outputs": []
    },
    {
      "cell_type": "code",
      "source": [
        "accuracy = accuracy_score(test_labels, y_pred_KNN)\n",
        "print(f\"Accuracy: {accuracy:.2f}\")"
      ],
      "metadata": {
        "id": "pXIQsi7j6QRk"
      },
      "execution_count": null,
      "outputs": []
    },
    {
      "cell_type": "code",
      "source": [
        "from sklearn.metrics import confusion_matrix\n",
        "\n",
        "confusion = confusion_matrix(test_labels, y_pred_KNN)"
      ],
      "metadata": {
        "id": "-IShnwcVfQ9_"
      },
      "execution_count": null,
      "outputs": []
    },
    {
      "cell_type": "code",
      "source": [
        "confusion"
      ],
      "metadata": {
        "id": "V2t8qdyefZjl"
      },
      "execution_count": null,
      "outputs": []
    },
    {
      "cell_type": "code",
      "source": [
        "from sklearn.metrics import classification_report\n",
        "\n",
        "target_names = ['class 0', 'class 1', 'class 2','class 3','class 4','class 5','class 6','class 7','class 8','class 9']\n",
        "print(classification_report(test_labels, y_pred_KNN, target_names=target_names))"
      ],
      "metadata": {
        "id": "DynvKZd7ffAu"
      },
      "execution_count": null,
      "outputs": []
    },
    {
      "cell_type": "code",
      "source": [
        "import matplotlib.pyplot as plt\n",
        "import numpy as np"
      ],
      "metadata": {
        "id": "BijdBHix0nc1"
      },
      "execution_count": null,
      "outputs": []
    },
    {
      "cell_type": "code",
      "source": [
        "confusion_matrix_data = np.array([[1301,   53,    4,   33,    1,   18,    7,   19,    5,    3],\n",
        "       [  98, 1299,   26,    5,    0,    5,    7,   12,    1,   58],\n",
        "       [  39,  179, 1148,    0,    2,   10,    7,   17,   14,    5],\n",
        "       [ 159,   33,    8, 1003,    1,   11,  191,   17,   13,    4],\n",
        "       [ 247,  132,  104,   11,  827,   44,   17,   50,   10,    4],\n",
        "       [ 342,   38,   38,   97,   22,  670,  217,   16,   14,    5],\n",
        "       [  75,   42,   19,  270,    1,   32,  979,    6,   22,    0],\n",
        "       [  68,   36,    8,    4,    1,   16,   15, 1220,   10,    4],\n",
        "       [  43,   23,   12,   11,    7,    7,   14,    6, 1297,    0],\n",
        "       [ 144,  599,   52,   20,    5,   19,   23,   56,   12,  510]])"
      ],
      "metadata": {
        "id": "l5m4kpgv0t3d"
      },
      "execution_count": null,
      "outputs": []
    },
    {
      "cell_type": "code",
      "source": [
        "from mlxtend.plotting import plot_confusion_matrix\n",
        "\n",
        "fig, ax = plot_confusion_matrix(conf_mat=confusion_matrix_data, figsize=(8, 6), cmap=plt.cm.Greens)\n",
        "plt.xlabel('Predictions', fontsize=14)\n",
        "plt.ylabel('Actuals', fontsize=14)\n",
        "plt.title('Confusion Matrix', fontsize=14)\n",
        "plt.show()"
      ],
      "metadata": {
        "id": "LmlrWgJS1Aid"
      },
      "execution_count": null,
      "outputs": []
    },
    {
      "cell_type": "code",
      "source": [],
      "metadata": {
        "id": "HK-8MTKk1M0E"
      },
      "execution_count": null,
      "outputs": []
    }
  ]
}